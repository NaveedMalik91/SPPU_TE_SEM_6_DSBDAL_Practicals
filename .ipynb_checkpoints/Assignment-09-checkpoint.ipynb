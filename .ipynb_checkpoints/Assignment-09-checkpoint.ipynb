{
 "cells": [
  {
   "cell_type": "markdown",
   "id": "01c1b3af-bbe2-43a6-bce6-34a4f0996a9c",
   "metadata": {},
   "source": [
    "## Assignment-09\n",
    "\n",
    "### Data Analytics-II\n",
    "\n",
    "1. Implement logistic regression using Python/R to\n",
    "perform classification on Social_Network_Ads.csv dataset.\n",
    "2. Compute Confusion matrix to find TP, FP, TN, FN,\n",
    "Accuracy, Error rate, Precision,\n",
    "Recall on the given dataset."
   ]
  },
  {
   "cell_type": "code",
   "execution_count": 2,
   "id": "a2dced9e-c635-43a6-9144-2bbc8c2e11a4",
   "metadata": {},
   "outputs": [],
   "source": [
    "import pandas as pd\n",
    "import numpy as np\n",
    "import matplotlib.pyplot as plt\n",
    "import seaborn as sns\n",
    "%matplotlib inline"
   ]
  },
  {
   "cell_type": "code",
   "execution_count": 3,
   "id": "0fc5f1ea-b078-4430-83de-1808974c0e54",
   "metadata": {},
   "outputs": [],
   "source": [
    "df= pd.read_csv('Social_Network_Ads.csv')"
   ]
  },
  {
   "cell_type": "markdown",
   "id": "9261abd6-bbe6-456a-b1e6-12d83da1fb41",
   "metadata": {},
   "source": [
    "#### Social_Network_Ads\n",
    "\n",
    "    1. Age: Age of the user.\n",
    "\n",
    "    2. EstimatedSalary: User's estimated salary.\n",
    "\n",
    "    3. Purchased: Whether the user purchased a product or not (usually 0 or 1).\n",
    "\n",
    "    4. Gender: Gender of the user (e.g., Male, Female).\n",
    "\n",
    "    5. User Id: Id of the user on the social media"
   ]
  },
  {
   "cell_type": "code",
   "execution_count": 4,
   "id": "26205655-d90c-4be8-b487-ecfd1fd19e51",
   "metadata": {},
   "outputs": [
    {
     "data": {
      "text/plain": [
       "(400, 5)"
      ]
     },
     "execution_count": 4,
     "metadata": {},
     "output_type": "execute_result"
    }
   ],
   "source": [
    "df.shape"
   ]
  },
  {
   "cell_type": "code",
   "execution_count": 5,
   "id": "7552616f-f135-4db5-9ef5-ae636819223e",
   "metadata": {},
   "outputs": [
    {
     "data": {
      "text/plain": [
       "Index(['User ID', 'Gender', 'Age', 'EstimatedSalary', 'Purchased'], dtype='object')"
      ]
     },
     "execution_count": 5,
     "metadata": {},
     "output_type": "execute_result"
    }
   ],
   "source": [
    "df.columns"
   ]
  },
  {
   "cell_type": "code",
   "execution_count": 6,
   "id": "70ccc54c-7b80-4847-9600-883877828e01",
   "metadata": {},
   "outputs": [
    {
     "data": {
      "text/html": [
       "<div>\n",
       "<style scoped>\n",
       "    .dataframe tbody tr th:only-of-type {\n",
       "        vertical-align: middle;\n",
       "    }\n",
       "\n",
       "    .dataframe tbody tr th {\n",
       "        vertical-align: top;\n",
       "    }\n",
       "\n",
       "    .dataframe thead th {\n",
       "        text-align: right;\n",
       "    }\n",
       "</style>\n",
       "<table border=\"1\" class=\"dataframe\">\n",
       "  <thead>\n",
       "    <tr style=\"text-align: right;\">\n",
       "      <th></th>\n",
       "      <th>User ID</th>\n",
       "      <th>Gender</th>\n",
       "      <th>Age</th>\n",
       "      <th>EstimatedSalary</th>\n",
       "      <th>Purchased</th>\n",
       "    </tr>\n",
       "  </thead>\n",
       "  <tbody>\n",
       "    <tr>\n",
       "      <th>0</th>\n",
       "      <td>15624510</td>\n",
       "      <td>Male</td>\n",
       "      <td>19</td>\n",
       "      <td>19000</td>\n",
       "      <td>0</td>\n",
       "    </tr>\n",
       "    <tr>\n",
       "      <th>1</th>\n",
       "      <td>15810944</td>\n",
       "      <td>Male</td>\n",
       "      <td>35</td>\n",
       "      <td>20000</td>\n",
       "      <td>0</td>\n",
       "    </tr>\n",
       "    <tr>\n",
       "      <th>2</th>\n",
       "      <td>15668575</td>\n",
       "      <td>Female</td>\n",
       "      <td>26</td>\n",
       "      <td>43000</td>\n",
       "      <td>0</td>\n",
       "    </tr>\n",
       "    <tr>\n",
       "      <th>3</th>\n",
       "      <td>15603246</td>\n",
       "      <td>Female</td>\n",
       "      <td>27</td>\n",
       "      <td>57000</td>\n",
       "      <td>0</td>\n",
       "    </tr>\n",
       "    <tr>\n",
       "      <th>4</th>\n",
       "      <td>15804002</td>\n",
       "      <td>Male</td>\n",
       "      <td>19</td>\n",
       "      <td>76000</td>\n",
       "      <td>0</td>\n",
       "    </tr>\n",
       "  </tbody>\n",
       "</table>\n",
       "</div>"
      ],
      "text/plain": [
       "    User ID  Gender  Age  EstimatedSalary  Purchased\n",
       "0  15624510    Male   19            19000          0\n",
       "1  15810944    Male   35            20000          0\n",
       "2  15668575  Female   26            43000          0\n",
       "3  15603246  Female   27            57000          0\n",
       "4  15804002    Male   19            76000          0"
      ]
     },
     "execution_count": 6,
     "metadata": {},
     "output_type": "execute_result"
    }
   ],
   "source": [
    "df.head()"
   ]
  },
  {
   "cell_type": "code",
   "execution_count": 7,
   "id": "bb581b1c-c2b4-4e8d-bc56-8578546e415a",
   "metadata": {},
   "outputs": [],
   "source": [
    "# Drop unnecessary columns\n",
    "df.drop(['User ID'],axis=1,inplace=True)"
   ]
  },
  {
   "cell_type": "code",
   "execution_count": 8,
   "id": "1ea9c955-e4e1-48e9-9349-d83b9b49d563",
   "metadata": {},
   "outputs": [
    {
     "data": {
      "text/html": [
       "<div>\n",
       "<style scoped>\n",
       "    .dataframe tbody tr th:only-of-type {\n",
       "        vertical-align: middle;\n",
       "    }\n",
       "\n",
       "    .dataframe tbody tr th {\n",
       "        vertical-align: top;\n",
       "    }\n",
       "\n",
       "    .dataframe thead th {\n",
       "        text-align: right;\n",
       "    }\n",
       "</style>\n",
       "<table border=\"1\" class=\"dataframe\">\n",
       "  <thead>\n",
       "    <tr style=\"text-align: right;\">\n",
       "      <th></th>\n",
       "      <th>Gender</th>\n",
       "      <th>Age</th>\n",
       "      <th>EstimatedSalary</th>\n",
       "      <th>Purchased</th>\n",
       "    </tr>\n",
       "  </thead>\n",
       "  <tbody>\n",
       "    <tr>\n",
       "      <th>0</th>\n",
       "      <td>Male</td>\n",
       "      <td>19</td>\n",
       "      <td>19000</td>\n",
       "      <td>0</td>\n",
       "    </tr>\n",
       "    <tr>\n",
       "      <th>1</th>\n",
       "      <td>Male</td>\n",
       "      <td>35</td>\n",
       "      <td>20000</td>\n",
       "      <td>0</td>\n",
       "    </tr>\n",
       "    <tr>\n",
       "      <th>2</th>\n",
       "      <td>Female</td>\n",
       "      <td>26</td>\n",
       "      <td>43000</td>\n",
       "      <td>0</td>\n",
       "    </tr>\n",
       "    <tr>\n",
       "      <th>3</th>\n",
       "      <td>Female</td>\n",
       "      <td>27</td>\n",
       "      <td>57000</td>\n",
       "      <td>0</td>\n",
       "    </tr>\n",
       "    <tr>\n",
       "      <th>4</th>\n",
       "      <td>Male</td>\n",
       "      <td>19</td>\n",
       "      <td>76000</td>\n",
       "      <td>0</td>\n",
       "    </tr>\n",
       "  </tbody>\n",
       "</table>\n",
       "</div>"
      ],
      "text/plain": [
       "   Gender  Age  EstimatedSalary  Purchased\n",
       "0    Male   19            19000          0\n",
       "1    Male   35            20000          0\n",
       "2  Female   26            43000          0\n",
       "3  Female   27            57000          0\n",
       "4    Male   19            76000          0"
      ]
     },
     "execution_count": 8,
     "metadata": {},
     "output_type": "execute_result"
    }
   ],
   "source": [
    "df.head()"
   ]
  },
  {
   "cell_type": "code",
   "execution_count": 9,
   "id": "e0cdb5a0-944a-470f-a6f7-27805d404afb",
   "metadata": {},
   "outputs": [
    {
     "data": {
      "text/plain": [
       "Purchased\n",
       "0    257\n",
       "1    143\n",
       "Name: count, dtype: int64"
      ]
     },
     "execution_count": 9,
     "metadata": {},
     "output_type": "execute_result"
    }
   ],
   "source": [
    "#Getting the number of purchases done\n",
    "df.Purchased.value_counts()"
   ]
  },
  {
   "cell_type": "code",
   "execution_count": 10,
   "id": "8a381376-05c9-47f2-88fe-404a5aea38bd",
   "metadata": {},
   "outputs": [
    {
     "data": {
      "text/plain": [
       "Gender\n",
       "Female    204\n",
       "Male      196\n",
       "Name: count, dtype: int64"
      ]
     },
     "execution_count": 10,
     "metadata": {},
     "output_type": "execute_result"
    }
   ],
   "source": [
    "# Distribution of people by gender\n",
    "df.Gender.value_counts()"
   ]
  },
  {
   "cell_type": "code",
   "execution_count": 11,
   "id": "c37511a9-215f-4a94-b2e9-ff95a2b1f6ec",
   "metadata": {},
   "outputs": [
    {
     "data": {
      "text/plain": [
       "Gender             0\n",
       "Age                0\n",
       "EstimatedSalary    0\n",
       "Purchased          0\n",
       "dtype: int64"
      ]
     },
     "execution_count": 11,
     "metadata": {},
     "output_type": "execute_result"
    }
   ],
   "source": [
    "#Preprocessing the data\n",
    "df.isnull().sum()"
   ]
  },
  {
   "cell_type": "markdown",
   "id": "807751f5-9e1c-41b3-b339-241341acff58",
   "metadata": {},
   "source": [
    "#### No missing data values"
   ]
  },
  {
   "cell_type": "code",
   "execution_count": 12,
   "id": "708d50c0-ee75-48c6-ae5f-ca5d8b3076fa",
   "metadata": {},
   "outputs": [
    {
     "data": {
      "text/plain": [
       "<Axes: ylabel='Age'>"
      ]
     },
     "execution_count": 12,
     "metadata": {},
     "output_type": "execute_result"
    },
    {
     "data": {
      "image/png": "[encoded data removed]",
      "text/plain": [
       "<Figure size 640x480 with 1 Axes>"
      ]
     },
     "metadata": {},
     "output_type": "display_data"
    }
   ],
   "source": [
    "sns.boxplot(data=df[\"Age\"])"
   ]
  },
  {
   "cell_type": "markdown",
   "id": "85987b42-c732-4053-ae9c-2dd8f490fe9b",
   "metadata": {},
   "source": [
    "#### No outliers in the Age"
   ]
  },
  {
   "cell_type": "code",
   "execution_count": 21,
   "id": "a6764b29-f164-43f3-8dbc-42964a6cc0b9",
   "metadata": {},
   "outputs": [
    {
     "name": "stderr",
     "output_type": "stream",
     "text": [
      "/tmp/ipykernel_38570/1780666602.py:2: FutureWarning: \n",
      "\n",
      "Passing `palette` without assigning `hue` is deprecated and will be removed in v0.14.0. Assign the `x` variable to `hue` and set `legend=False` for the same effect.\n",
      "\n",
      "  sns.barplot(data = df, x = \"Gender\",y=\"Purchased\",palette=\"Greens\")\n"
     ]
    },
    {
     "data": {
      "image/png": "[encoded data removed]",
      "text/plain": [
       "<Figure size 640x480 with 1 Axes>"
      ]
     },
     "metadata": {},
     "output_type": "display_data"
    }
   ],
   "source": [
    "#g = sns.catplot(x=\"Gender\", y=\"Purchased\", data=df, kind=\"bar\", height=4,palette = \"Greens\",hue=\"Gender\")\n",
    "sns.barplot(data = df, x = \"Gender\",y=\"Purchased\",palette=\"Greens\")\n",
    "plt.title(\"Purchase Distribution by Gender\")\n",
    "\n",
    "# Set the y-axis label\n",
    "plt.ylabel(\"Purchased Probability\")\n",
    "\n",
    "# Display the plot\n",
    "plt.show()"
   ]
  },
  {
   "cell_type": "code",
   "execution_count": 25,
   "id": "83225732-fe48-4efe-87e2-49596883a607",
   "metadata": {},
   "outputs": [],
   "source": [
    "#Applying the normalization on data columns using min_max scaling\n",
    "def min_max_normalize( feature ):\n",
    "    df[ feature ] = ( df[feature] - df[feature].min() ) / ( df[feature].max() - df[feature].min() ) \n",
    "\n",
    "min_max_normalize(\"EstimatedSalary\")\n",
    "min_max_normalize(\"Age\")"
   ]
  },
  {
   "cell_type": "markdown",
   "id": "f0e21503-3117-420d-8885-8906840f61e7",
   "metadata": {},
   "source": [
    "### Training the model: Logistics regression"
   ]
  },
  {
   "cell_type": "code",
   "execution_count": 31,
   "id": "5fdb905b-8ca3-4f76-9b11-f18eaa90f80a",
   "metadata": {},
   "outputs": [
    {
     "name": "stdout",
     "output_type": "stream",
     "text": [
      "Training accuracy: 84.64285714285714\n",
      "Testing accuracy: 85.83333333333333\n"
     ]
    }
   ],
   "source": [
    "from sklearn.model_selection import train_test_split\n",
    "from sklearn.linear_model import LogisticRegression\n",
    "from sklearn.metrics import accuracy_score\n",
    "from sklearn.preprocessing import LabelEncoder\n",
    "\n",
    "# Initialize the LabelEncoder\n",
    "encoder = LabelEncoder()\n",
    "\n",
    "# Perform label encoding on the 'Gender' column\n",
    "df['Gender'] = encoder.fit_transform(df['Gender'])\n",
    "\n",
    "#Get Input Variable into X and Outcome variable into Y\n",
    "X = np.asarray(df.drop([\"Purchased\"], axis=1)) #All variables as input except Purchased\n",
    "y = np.asarray(df[\"Purchased\"])\n",
    "\n",
    "\n",
    "# Creating a logistic-regression model\n",
    "model = LogisticRegression()\n",
    "\n",
    "#Split the data in train-test in the ratio 70:30 resp\n",
    "X_train, X_test, y_train, y_test = train_test_split(X, y, test_size=0.3)\n",
    "\n",
    "#Train the model\n",
    "model.fit(X_train, y_train)\n",
    "\n",
    "#Perform predictions\n",
    "y_pred = model.predict(X_test)\n",
    "\n",
    "#Check training and testing score\n",
    "print(\"Training accuracy:\", model.score(X_train,y_train)*100)\n",
    "print(\"Testing accuracy:\", model.score(X_test,y_test)*100)"
   ]
  },
  {
   "cell_type": "markdown",
   "id": "eb8979a7-4cfc-4bfd-b556-0818f7347cfa",
   "metadata": {},
   "source": [
    "### Model Evaluation: Precision, Recall, F1-score, Accuracy,Error rate, support"
   ]
  },
  {
   "cell_type": "code",
   "execution_count": 37,
   "id": "d6fdbd48-9da2-40b6-8945-9dbef45e98e1",
   "metadata": {},
   "outputs": [
    {
     "name": "stdout",
     "output_type": "stream",
     "text": [
      "Confusion Matrix:\n",
      " [[77  8]\n",
      " [ 9 26]]\n",
      "\n",
      "\n",
      "True Positives (TP): 26\n",
      "True Negatives (TN): 77\n",
      "False Positives (FP): 8\n",
      "False Negatives (FN): 9\n",
      "\n",
      "\n",
      "Precision: 0.7647058823529411\n",
      "Recall: 0.7428571428571429\n",
      "F1-score: 0.7536231884057971\n",
      "Accuracy: 85.83333333333333\n",
      "Error Rate: 14.166666666666671\n",
      "Support: [85 35]\n"
     ]
    }
   ],
   "source": [
    "from sklearn.metrics import confusion_matrix\n",
    "\n",
    "# Calculate confusion matrix\n",
    "cm = confusion_matrix(y_test, y_pred)\n",
    "\n",
    "# Extract True Positives, False Positives, False Negatives, True Negatives\n",
    "TP = cm[1, 1]\n",
    "TN = cm[0, 0]\n",
    "FP = cm[0, 1]\n",
    "FN = cm[1, 0]\n",
    "\n",
    "# Print the confusion matrix\n",
    "print(\"Confusion Matrix:\\n\", cm)\n",
    "print(\"\\n\")\n",
    "\n",
    "# Print TP, FP, TN, FN\n",
    "print(\"True Positives (TP):\", TP)\n",
    "print(\"True Negatives (TN):\", TN)\n",
    "print(\"False Positives (FP):\", FP)\n",
    "print(\"False Negatives (FN):\", FN)\n",
    "\n",
    "print(\"\\n\")\n",
    "\n",
    "# Calculate Precision\n",
    "precision = TP / (TP + FP)\n",
    "\n",
    "# Calculate Recall\n",
    "recall = TP / (TP + FN)\n",
    "\n",
    "# Calculate F1-score\n",
    "f1_score = 2 * (precision * recall) / (precision + recall)\n",
    "\n",
    "# Calculate Accuracy\n",
    "accuracy = (TP+TN)/(TP+TN+FP+FN)\n",
    "\n",
    "# Calculate Error Rate\n",
    "error_rate = 1 - accuracy\n",
    "\n",
    "# Calculate Support (number of actual occurrences of each class)\n",
    "support = cm.sum(axis=1)\n",
    "\n",
    "# Display the metrics\n",
    "print(\"Precision:\", precision)\n",
    "print(\"Recall:\", recall)\n",
    "print(\"F1-score:\", f1_score)\n",
    "print(\"Accuracy:\", accuracy * 100)\n",
    "print(\"Error Rate:\", error_rate * 100)\n",
    "print(\"Support:\", support) #sum of rows i.e. 77+8, 9+26\n"
   ]
  },
  {
   "cell_type": "code",
   "execution_count": 39,
   "id": "c1eb794f-d66c-45b5-8beb-28f1aee8ab8d",
   "metadata": {},
   "outputs": [
    {
     "data": {
      "image/png": "[encoded data removed]",
      "text/plain": [
       "<Figure size 800x800 with 2 Axes>"
      ]
     },
     "metadata": {},
     "output_type": "display_data"
    }
   ],
   "source": [
    "import seaborn as sns\n",
    "import matplotlib.pyplot as plt\n",
    "\n",
    "# Calculate the correlation matrix\n",
    "corr = df.corr()\n",
    "\n",
    "# Plot the heatmap\n",
    "plt.figure(figsize=(8, 8))\n",
    "sns.heatmap(corr, annot=True, fmt='.1f', cmap='Greens', cbar=True, square=True, annot_kws={'size': 12})\n",
    "\n",
    "# Show the plot\n",
    "plt.title(\"Correlation Matrix\")\n",
    "plt.show()\n"
   ]
  },
  {
   "cell_type": "code",
   "execution_count": null,
   "id": "018b3b65-5ed4-44b2-818d-949726a625f5",
   "metadata": {},
   "outputs": [],
   "source": []
  }
 ],
 "metadata": {
  "kernelspec": {
   "display_name": "Python 3 (ipykernel)",
   "language": "python",
   "name": "python3"
  },
  "language_info": {
   "codemirror_mode": {
    "name": "ipython",
    "version": 3
   },
   "file_extension": ".py",
   "mimetype": "text/x-python",
   "name": "python",
   "nbconvert_exporter": "python",
   "pygments_lexer": "ipython3",
   "version": "3.12.3"
  }
 },
 "nbformat": 4,
 "nbformat_minor": 5
}
