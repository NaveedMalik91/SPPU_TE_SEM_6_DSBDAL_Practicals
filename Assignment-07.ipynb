{
 "cells": [
  {
   "cell_type": "markdown",
   "id": "8a70924f-71df-4790-91a7-d63a56f630d6",
   "metadata": {},
   "source": [
    "## Assignment-07\n",
    "### Text Analytics\n",
    "1. Extract Sample document and apply following\n",
    "document preprocessing methods: Tokenization, POS\n",
    "Tagging, stop words removal, Stemming and\n",
    "Lemmatization.\n",
    "2. Create representation of document by calculating Term\n",
    "Frequency and Inverse Document Frequency."
   ]
  },
  {
   "cell_type": "code",
   "execution_count": 7,
   "id": "5a622b79-d5ec-4bde-ba41-d8c55bee04ea",
   "metadata": {},
   "outputs": [],
   "source": [
    "import nltk\n",
    "import math,re\n",
    "nltk.data.path.append(\"/home/naveed-malik/nltk_data\")\n",
    "from nltk import sent_tokenize\n",
    "from nltk import word_tokenize\n",
    "from nltk.corpus import stopwords"
   ]
  },
  {
   "cell_type": "code",
   "execution_count": 8,
   "id": "23655fb4-4fc7-4dfd-8f18-bf23dcdb606d",
   "metadata": {},
   "outputs": [],
   "source": [
    "with open('doc_01', 'r') as file:\n",
    "    doc = file.read()\n",
    "\n",
    "with open('doc_02', 'r') as file:\n",
    "    doc2 = file.read()"
   ]
  },
  {
   "cell_type": "code",
   "execution_count": 9,
   "id": "03fe7058-8a25-4c90-ad18-e0e813f1d246",
   "metadata": {},
   "outputs": [
    {
     "name": "stdout",
     "output_type": "stream",
     "text": [
      "['Millions of people in India took part in an annual tree planting drive Sunday.', \"More than 250 million saplings were planted in a single day across the country's most-populous state.\", 'The campaign was led by Uttar Pradesh state government officials, lawmakers, and activists, in a bid to reduce carbon emissions and combat climate change.', 'Where were the trees planted?', 'The saplings were planted by volunteers in forests, farms, schools, and along riverbanks and highways.', '\"We are committed to increasing the forest cover of Uttar Pradesh to over 15% of the total land area in the next five years,\\'\\' said state forest official Manoj Singh.', 'According to another government official, the forest cover of the state has increased over the last few years.', '\"There has been an increase of 127 sqare kilometers [79 sqare miles]\\xa0in the forest cover in Uttar Pradesh as compared to 2017,\" a state government spokesperson was quoted as saying in\\xa0The Indian Express newspaper.', '\"There has also been an increase in trees and plants.', 'The tree cover has increased to 3.05%, as compared to the national average of 2.89%,\" the official said, citing the 2019 Forest Survey of India report.', 'How many saplings survive?', 'Uttar Pradesh State Forest Minister Dara Singh said the long-term survival of the saplings remains a concern, adding that usually only 60% of the saplings survive.', 'The rest succumb to disease or lack of water.', 'However, he said that\\xa0about 80% of the saplings planted in the last four annual drives have survived.', '\"All the regions where plantation is being carried out have been geo-tagged so that we can ascertain what exactly happened,\" Chauhan told The Pioneer newspaper.', '\"These saplings carry QR codes so that officials can maintain a record and verify whether the saplings survived or not.', 'Besides, teams have been formed to monitor progress of the plantation drive,\" he said.', \"What is the extent of India's tree planting project?\", 'India has vowed to have a third of its total land area, or 95 million hectares, under forest and tree cover by 2030.', 'The government has allocated $6.2 billion (€5.2 billion) for the tree-planting across the country.', 'However, industrial development and a rapidly growing population has put further stress on the land.']\n"
     ]
    }
   ],
   "source": [
    "#Splitting the data in the doc file into sentences\n",
    "tokens_sents = nltk.sent_tokenize(doc)\n",
    "print(tokens_sents)\n"
   ]
  },
  {
   "cell_type": "markdown",
   "id": "4624779d-73da-4ee8-9550-48535d8fbc21",
   "metadata": {},
   "source": [
    "#### Tokenization\n",
    "\n",
    "Tokenization is the process of breaking down a text into individual words or tokens. This is often the first step in natural language processing tasks"
   ]
  },
  {
   "cell_type": "code",
   "execution_count": 10,
   "id": "37e5e0cc-fe4a-4570-aa3b-e4c42bca2c2e",
   "metadata": {},
   "outputs": [
    {
     "name": "stdout",
     "output_type": "stream",
     "text": [
      "['Millions', 'of', 'people', 'in', 'India', 'took', 'part', 'in', 'an', 'annual', 'tree', 'planting', 'drive', 'Sunday', '.', 'More', 'than', '250', 'million', 'saplings', 'were', 'planted', 'in', 'a', 'single', 'day', 'across', 'the', 'country', \"'s\", 'most-populous', 'state', '.', 'The', 'campaign', 'was', 'led', 'by', 'Uttar', 'Pradesh', 'state', 'government', 'officials', ',', 'lawmakers', ',', 'and', 'activists', ',', 'in', 'a', 'bid', 'to', 'reduce', 'carbon', 'emissions', 'and', 'combat', 'climate', 'change', '.', 'Where', 'were', 'the', 'trees', 'planted', '?', 'The', 'saplings', 'were', 'planted', 'by', 'volunteers', 'in', 'forests', ',', 'farms', ',', 'schools', ',', 'and', 'along', 'riverbanks', 'and', 'highways', '.', '``', 'We', 'are', 'committed', 'to', 'increasing', 'the', 'forest', 'cover', 'of', 'Uttar', 'Pradesh', 'to', 'over', '15', '%', 'of', 'the', 'total', 'land', 'area', 'in', 'the', 'next', 'five', 'years', ',', \"''\", 'said', 'state', 'forest', 'official', 'Manoj', 'Singh', '.', 'According', 'to', 'another', 'government', 'official', ',', 'the', 'forest', 'cover', 'of', 'the', 'state', 'has', 'increased', 'over', 'the', 'last', 'few', 'years', '.', '``', 'There', 'has', 'been', 'an', 'increase', 'of', '127', 'sqare', 'kilometers', '[', '79', 'sqare', 'miles', ']', 'in', 'the', 'forest', 'cover', 'in', 'Uttar', 'Pradesh', 'as', 'compared', 'to', '2017', ',', \"''\", 'a', 'state', 'government', 'spokesperson', 'was', 'quoted', 'as', 'saying', 'in', 'The', 'Indian', 'Express', 'newspaper', '.', '``', 'There', 'has', 'also', 'been', 'an', 'increase', 'in', 'trees', 'and', 'plants', '.', 'The', 'tree', 'cover', 'has', 'increased', 'to', '3.05', '%', ',', 'as', 'compared', 'to', 'the', 'national', 'average', 'of', '2.89', '%', ',', \"''\", 'the', 'official', 'said', ',', 'citing', 'the', '2019', 'Forest', 'Survey', 'of', 'India', 'report', '.', 'How', 'many', 'saplings', 'survive', '?', 'Uttar', 'Pradesh', 'State', 'Forest', 'Minister', 'Dara', 'Singh', 'said', 'the', 'long-term', 'survival', 'of', 'the', 'saplings', 'remains', 'a', 'concern', ',', 'adding', 'that', 'usually', 'only', '60', '%', 'of', 'the', 'saplings', 'survive', '.', 'The', 'rest', 'succumb', 'to', 'disease', 'or', 'lack', 'of', 'water', '.', 'However', ',', 'he', 'said', 'that', 'about', '80', '%', 'of', 'the', 'saplings', 'planted', 'in', 'the', 'last', 'four', 'annual', 'drives', 'have', 'survived', '.', '``', 'All', 'the', 'regions', 'where', 'plantation', 'is', 'being', 'carried', 'out', 'have', 'been', 'geo-tagged', 'so', 'that', 'we', 'can', 'ascertain', 'what', 'exactly', 'happened', ',', \"''\", 'Chauhan', 'told', 'The', 'Pioneer', 'newspaper', '.', '``', 'These', 'saplings', 'carry', 'QR', 'codes', 'so', 'that', 'officials', 'can', 'maintain', 'a', 'record', 'and', 'verify', 'whether', 'the', 'saplings', 'survived', 'or', 'not', '.', 'Besides', ',', 'teams', 'have', 'been', 'formed', 'to', 'monitor', 'progress', 'of', 'the', 'plantation', 'drive', ',', \"''\", 'he', 'said', '.', 'What', 'is', 'the', 'extent', 'of', 'India', \"'s\", 'tree', 'planting', 'project', '?', 'India', 'has', 'vowed', 'to', 'have', 'a', 'third', 'of', 'its', 'total', 'land', 'area', ',', 'or', '95', 'million', 'hectares', ',', 'under', 'forest', 'and', 'tree', 'cover', 'by', '2030', '.', 'The', 'government', 'has', 'allocated', '$', '6.2', 'billion', '(', '€5.2', 'billion', ')', 'for', 'the', 'tree-planting', 'across', 'the', 'country', '.', 'However', ',', 'industrial', 'development', 'and', 'a', 'rapidly', 'growing', 'population', 'has', 'put', 'further', 'stress', 'on', 'the', 'land', '.']\n"
     ]
    }
   ],
   "source": [
    "word_tokens = nltk.word_tokenize(doc)\n",
    "print(word_tokens)"
   ]
  },
  {
   "cell_type": "markdown",
   "id": "20cfc0bb-9715-4dba-ae71-2be4dac649b5",
   "metadata": {},
   "source": [
    "#### Stop Words\n",
    "\n",
    "Stop words are common words like 'the', 'is', 'and', etc., which often do not carry significant meaning in text analysis.\n",
    "Remove these stop words from the text to focus on the more meaningful content."
   ]
  },
  {
   "cell_type": "code",
   "execution_count": 11,
   "id": "833d5b77-9615-4cd3-b107-72082c8e1265",
   "metadata": {},
   "outputs": [
    {
     "name": "stdout",
     "output_type": "stream",
     "text": [
      "['Millions', 'people', 'India', 'took', 'part', 'annual', 'tree', 'planting', 'drive', 'Sunday', '.', 'More', '250', 'million', 'saplings', 'planted', 'single', 'day', 'across', 'country', \"'s\", 'most-populous', 'state', '.', 'The', 'campaign', 'led', 'Uttar', 'Pradesh', 'state', 'government', 'officials', ',', 'lawmakers', ',', 'activists', ',', 'bid', 'reduce', 'carbon', 'emissions', 'combat', 'climate', 'change', '.', 'Where', 'trees', 'planted', '?', 'The', 'saplings', 'planted', 'volunteers', 'forests', ',', 'farms', ',', 'schools', ',', 'along', 'riverbanks', 'highways', '.', '``', 'We', 'committed', 'increasing', 'forest', 'cover', 'Uttar', 'Pradesh', '15', '%', 'total', 'land', 'area', 'next', 'five', 'years', ',', \"''\", 'said', 'state', 'forest', 'official', 'Manoj', 'Singh', '.', 'According', 'another', 'government', 'official', ',', 'forest', 'cover', 'state', 'increased', 'last', 'years', '.', '``', 'There', 'increase', '127', 'sqare', 'kilometers', '[', '79', 'sqare', 'miles', ']', 'forest', 'cover', 'Uttar', 'Pradesh', 'compared', '2017', ',', \"''\", 'state', 'government', 'spokesperson', 'quoted', 'saying', 'The', 'Indian', 'Express', 'newspaper', '.', '``', 'There', 'also', 'increase', 'trees', 'plants', '.', 'The', 'tree', 'cover', 'increased', '3.05', '%', ',', 'compared', 'national', 'average', '2.89', '%', ',', \"''\", 'official', 'said', ',', 'citing', '2019', 'Forest', 'Survey', 'India', 'report', '.', 'How', 'many', 'saplings', 'survive', '?', 'Uttar', 'Pradesh', 'State', 'Forest', 'Minister', 'Dara', 'Singh', 'said', 'long-term', 'survival', 'saplings', 'remains', 'concern', ',', 'adding', 'usually', '60', '%', 'saplings', 'survive', '.', 'The', 'rest', 'succumb', 'disease', 'lack', 'water', '.', 'However', ',', 'said', '80', '%', 'saplings', 'planted', 'last', 'four', 'annual', 'drives', 'survived', '.', '``', 'All', 'regions', 'plantation', 'carried', 'geo-tagged', 'ascertain', 'exactly', 'happened', ',', \"''\", 'Chauhan', 'told', 'The', 'Pioneer', 'newspaper', '.', '``', 'These', 'saplings', 'carry', 'QR', 'codes', 'officials', 'maintain', 'record', 'verify', 'whether', 'saplings', 'survived', '.', 'Besides', ',', 'teams', 'formed', 'monitor', 'progress', 'plantation', 'drive', ',', \"''\", 'said', '.', 'What', 'extent', 'India', \"'s\", 'tree', 'planting', 'project', '?', 'India', 'vowed', 'third', 'total', 'land', 'area', ',', '95', 'million', 'hectares', ',', 'forest', 'tree', 'cover', '2030', '.', 'The', 'government', 'allocated', '$', '6.2', 'billion', '(', '€5.2', 'billion', ')', 'tree-planting', 'across', 'country', '.', 'However', ',', 'industrial', 'development', 'rapidly', 'growing', 'population', 'put', 'stress', 'land', '.']\n"
     ]
    }
   ],
   "source": [
    "stop_words = set(nltk.corpus.stopwords.words('english'))\n",
    "word_tokens = [token for token in word_tokens if token not in stop_words]\n",
    "print(word_tokens)"
   ]
  },
  {
   "cell_type": "markdown",
   "id": "9605b03b-926f-4ae4-b00f-03a9fe7154dd",
   "metadata": {},
   "source": [
    "#### POS Tagging\n",
    "\n",
    "POS tagging involves labeling each word in a sentence with its corresponding part of speech, such as noun, verb, adjective, etc."
   ]
  },
  {
   "cell_type": "code",
   "execution_count": 12,
   "id": "09903861-490a-47c4-b4b7-95eea4f1ddba",
   "metadata": {},
   "outputs": [
    {
     "name": "stdout",
     "output_type": "stream",
     "text": [
      "[('Millions', 'NNS'), ('people', 'NNS'), ('India', 'NNP'), ('took', 'VBD'), ('part', 'NN'), ('annual', 'JJ'), ('tree', 'NN'), ('planting', 'VBG'), ('drive', 'JJ'), ('Sunday', 'NNP'), ('.', '.'), ('More', 'JJR'), ('250', 'CD'), ('million', 'CD'), ('saplings', 'NNS'), ('planted', 'VBN'), ('single', 'JJ'), ('day', 'NN'), ('across', 'IN'), ('country', 'NN'), (\"'s\", 'POS'), ('most-populous', 'JJ'), ('state', 'NN'), ('.', '.'), ('The', 'DT'), ('campaign', 'NN'), ('led', 'VBD'), ('Uttar', 'NNP'), ('Pradesh', 'NNP'), ('state', 'NN'), ('government', 'NN'), ('officials', 'NNS'), (',', ','), ('lawmakers', 'NNS'), (',', ','), ('activists', 'NNS'), (',', ','), ('bid', 'NN'), ('reduce', 'VB'), ('carbon', 'NN'), ('emissions', 'NNS'), ('combat', 'VBP'), ('climate', 'JJ'), ('change', 'NN'), ('.', '.'), ('Where', 'WRB'), ('trees', 'NNS'), ('planted', 'VBN'), ('?', '.'), ('The', 'DT'), ('saplings', 'NNS'), ('planted', 'VBD'), ('volunteers', 'NNS'), ('forests', 'NNS'), (',', ','), ('farms', 'NNS'), (',', ','), ('schools', 'NNS'), (',', ','), ('along', 'IN'), ('riverbanks', 'NNS'), ('highways', 'NNS'), ('.', '.'), ('``', '``'), ('We', 'PRP'), ('committed', 'VBD'), ('increasing', 'VBG'), ('forest', 'JJS'), ('cover', 'NN'), ('Uttar', 'NNP'), ('Pradesh', 'NNP'), ('15', 'CD'), ('%', 'NN'), ('total', 'JJ'), ('land', 'NN'), ('area', 'NN'), ('next', 'IN'), ('five', 'CD'), ('years', 'NNS'), (',', ','), (\"''\", \"''\"), ('said', 'VBD'), ('state', 'NN'), ('forest', 'JJS'), ('official', 'NN'), ('Manoj', 'NNP'), ('Singh', 'NNP'), ('.', '.'), ('According', 'VBG'), ('another', 'DT'), ('government', 'NN'), ('official', 'NN'), (',', ','), ('forest', 'JJS'), ('cover', 'NN'), ('state', 'NN'), ('increased', 'VBD'), ('last', 'JJ'), ('years', 'NNS'), ('.', '.'), ('``', '``'), ('There', 'EX'), ('increase', 'VB'), ('127', 'CD'), ('sqare', 'JJ'), ('kilometers', 'NNS'), ('[', 'VBP'), ('79', 'CD'), ('sqare', 'NN'), ('miles', 'NNS'), (']', 'RB'), ('forest', 'VBP'), ('cover', 'NN'), ('Uttar', 'NNP'), ('Pradesh', 'NNP'), ('compared', 'VBN'), ('2017', 'CD'), (',', ','), (\"''\", \"''\"), ('state', 'NN'), ('government', 'NN'), ('spokesperson', 'NN'), ('quoted', 'VBD'), ('saying', 'VBG'), ('The', 'DT'), ('Indian', 'NNP'), ('Express', 'NNP'), ('newspaper', 'NN'), ('.', '.'), ('``', '``'), ('There', 'EX'), ('also', 'RB'), ('increase', 'NN'), ('trees', 'NNS'), ('plants', 'NNS'), ('.', '.'), ('The', 'DT'), ('tree', 'JJ'), ('cover', 'NN'), ('increased', 'VBD'), ('3.05', 'CD'), ('%', 'NN'), (',', ','), ('compared', 'VBN'), ('national', 'JJ'), ('average', 'JJ'), ('2.89', 'CD'), ('%', 'NN'), (',', ','), (\"''\", \"''\"), ('official', 'NN'), ('said', 'VBD'), (',', ','), ('citing', 'VBG'), ('2019', 'CD'), ('Forest', 'NNP'), ('Survey', 'NNP'), ('India', 'NNP'), ('report', 'NN'), ('.', '.'), ('How', 'WRB'), ('many', 'JJ'), ('saplings', 'NNS'), ('survive', 'VBP'), ('?', '.'), ('Uttar', 'NNP'), ('Pradesh', 'NNP'), ('State', 'NNP'), ('Forest', 'NNP'), ('Minister', 'NNP'), ('Dara', 'NNP'), ('Singh', 'NNP'), ('said', 'VBD'), ('long-term', 'JJ'), ('survival', 'JJ'), ('saplings', 'NNS'), ('remains', 'VBZ'), ('concern', 'NN'), (',', ','), ('adding', 'VBG'), ('usually', 'RB'), ('60', 'CD'), ('%', 'NN'), ('saplings', 'NNS'), ('survive', 'VBP'), ('.', '.'), ('The', 'DT'), ('rest', 'NN'), ('succumb', 'NN'), ('disease', 'NN'), ('lack', 'NN'), ('water', 'NN'), ('.', '.'), ('However', 'RB'), (',', ','), ('said', 'VBD'), ('80', 'CD'), ('%', 'NN'), ('saplings', 'NNS'), ('planted', 'VBN'), ('last', 'JJ'), ('four', 'CD'), ('annual', 'JJ'), ('drives', 'NNS'), ('survived', 'VBD'), ('.', '.'), ('``', '``'), ('All', 'DT'), ('regions', 'NNS'), ('plantation', 'VBP'), ('carried', 'VBN'), ('geo-tagged', 'JJ'), ('ascertain', 'NN'), ('exactly', 'RB'), ('happened', 'VBD'), (',', ','), (\"''\", \"''\"), ('Chauhan', 'NNP'), ('told', 'VBD'), ('The', 'DT'), ('Pioneer', 'NNP'), ('newspaper', 'NN'), ('.', '.'), ('``', '``'), ('These', 'DT'), ('saplings', 'NNS'), ('carry', 'VBP'), ('QR', 'NNP'), ('codes', 'NNS'), ('officials', 'NNS'), ('maintain', 'VBP'), ('record', 'NN'), ('verify', 'NN'), ('whether', 'IN'), ('saplings', 'NNS'), ('survived', 'VBN'), ('.', '.'), ('Besides', 'IN'), (',', ','), ('teams', 'NNS'), ('formed', 'VBD'), ('monitor', 'JJ'), ('progress', 'JJ'), ('plantation', 'NN'), ('drive', 'NN'), (',', ','), (\"''\", \"''\"), ('said', 'VBD'), ('.', '.'), ('What', 'WP'), ('extent', 'VBD'), ('India', 'NNP'), (\"'s\", 'POS'), ('tree', 'NN'), ('planting', 'NN'), ('project', 'NN'), ('?', '.'), ('India', 'NNP'), ('vowed', 'VBD'), ('third', 'JJ'), ('total', 'JJ'), ('land', 'NN'), ('area', 'NN'), (',', ','), ('95', 'CD'), ('million', 'CD'), ('hectares', 'NNS'), (',', ','), ('forest', 'JJS'), ('tree', 'NN'), ('cover', 'NN'), ('2030', 'CD'), ('.', '.'), ('The', 'DT'), ('government', 'NN'), ('allocated', 'VBD'), ('$', '$'), ('6.2', 'CD'), ('billion', 'CD'), ('(', '('), ('€5.2', 'NNP'), ('billion', 'CD'), (')', ')'), ('tree-planting', 'NN'), ('across', 'IN'), ('country', 'NN'), ('.', '.'), ('However', 'RB'), (',', ','), ('industrial', 'JJ'), ('development', 'NN'), ('rapidly', 'RB'), ('growing', 'VBG'), ('population', 'NN'), ('put', 'VBD'), ('stress', 'JJ'), ('land', 'NN'), ('.', '.')]\n"
     ]
    }
   ],
   "source": [
    "tagged = nltk.pos_tag(word_tokens)\n",
    "print(tagged)"
   ]
  },
  {
   "cell_type": "markdown",
   "id": "116cbc2d-8b2d-4d4f-ad77-3fd3c91c7962",
   "metadata": {},
   "source": [
    "#### Stemming & Lemmatization\n",
    "\n",
    "**Stemming**\n",
    "\n",
    "Stemming, in Natural Language Processing (NLP), refers to the process of reducing a word to its word stem that affixes to suffixes and prefixes or the roots.\n",
    "\n",
    "While a stemming algorithm is a linguistic normalization process in which the variant forms of a word are reduced to a standard form. It is a technique used to extract the base form of the words by removing affixes from them. It is just like cutting down the branches of a tree to its stems. For example, the stem of the words “eating,” “eats,” “eaten” is “eat.”\n",
    "\n",
    "![](https://editor.analyticsvidhya.com/uploads/98676NLP_P2_I1.JPG)\n",
    "\n",
    "Search engines use stemming in NLP for indexing the words. That’s why rather than storing all forms of a word, a search engine can store only the stems. In this way, stemming reduces the size of the index and increases retrieval accuracy.\n",
    "\n",
    "![](https://assets-global.website-files.com/5ef788f07804fb7d78a4127a/61d44079aad03bd419c4ba90_stemming.jpeg)\n",
    "\n",
    "Porter's Stemmer Algorithm:\n",
    "\n",
    "Porter’s Stemmer algorithm is one of the most popular stemming methods proposed in 1980. It is based on the idea that the suffixes in the English language are made up of a combination of smaller and simpler suffixes. This stemmer is known for its speed and simplicity. The main applications of Porter Stemmer include data mining and Information retrieval. However, its applications are only limited to English words. Also, the group of stems is mapped onto the same stem and the output stem is not necessarily a meaningful word. The algorithms are fairly lengthy and are known to be the oldest stemmer.\n",
    "\n",
    "Example: EED -> EE means “if the word has at least one vowel and consonant plus EED ending, change the ending to EE” as ‘agreed’ becomes ‘agree.’ \n",
    "\n",
    "\n",
    "**Lemmatization**\n",
    "\n",
    "Lemmatization is the process of grouping together the different inflected forms of a word so they can be analyzed as a single item. Lemmatization is similar to stemming but it brings context to the words. So, it links words with similar meanings to one word. \n",
    "The goal of lemmatization is to reduce a word to its root form, also called a lemma. For example, the verb \"running\" would be identified as \"run.\" \n",
    "\n",
    "e.g.\n",
    "*rocks : rock*\n",
    "\n",
    "*corpora : corpus*\n",
    "\n",
    "*better : good*\n",
    "\n",
    "Lemmatization takes a word and breaks it down to its lemma. For example, the verb \"walk\" might appear as \"walking,\" \"walks\" or \"walked.\" Inflectional endings such as \"s,\" \"ed\" and \"ing\" are removed. Lemmatization groups these words as its lemma, \"walk.\"\n",
    "\n",
    "| Stemming                                                                                                                       | Lemmatization                                                                                                 |\n",
    "|--------------------------------------------------------------------------------------------------------------------------------|---------------------------------------------------------------------------------------------------------------|\n",
    "| Stemming is a process that stems or removes last few characters from a word, often leading to incorrect meanings and spelling. | Lemmatization considers the context and converts the word to its meaningful base form, which is called Lemma. |\n",
    "| For instance, stemming the word ‘Caring‘ would return ‘Car‘.                                                                   | For instance, lemmatizing the word ‘Caring‘ would return ‘Care‘.                                              |\n",
    "| In stemming, for some words, it may not give may not give meaningful representation such as “Histori”.                         | Lemmatization gives a meaningful word/                                                                        |\n",
    "| Stemming is used in case of large dataset where performance is an issue.                                                       | Lemmatization is computationally expensive since it involves look-up tables and what not.                     |"
   ]
  },
  {
   "cell_type": "markdown",
   "id": "df5c0d47-b518-42cb-9ea0-a7198319e06d",
   "metadata": {},
   "source": [
    "### Lemmatization"
   ]
  },
  {
   "cell_type": "code",
   "execution_count": 7,
   "id": "facecd3b-7a0c-4f7a-a713-8616419c8b13",
   "metadata": {},
   "outputs": [
    {
     "name": "stdout",
     "output_type": "stream",
     "text": [
      "['Millions', 'people', 'India', 'took', 'part', 'annual', 'tree', 'planting', 'drive', 'Sunday', '.', 'More', '250', 'million', 'sapling', 'planted', 'single', 'day', 'across', 'country', \"'s\", 'most-populous', 'state', '.', 'The', 'campaign', 'led', 'Uttar', 'Pradesh', 'state', 'government', 'official', ',', 'lawmaker', ',', 'activist', ',', 'bid', 'reduce', 'carbon', 'emission', 'combat', 'climate', 'change', '.', 'Where', 'tree', 'planted', '?', 'The', 'sapling', 'planted', 'volunteer', 'forest', ',', 'farm', ',', 'school', ',', 'along', 'riverbank', 'highway', '.', '``', 'We', 'committed', 'increasing', 'forest', 'cover', 'Uttar', 'Pradesh', '15', '%', 'total', 'land', 'area', 'next', 'five', 'year', ',', \"''\", 'said', 'state', 'forest', 'official', 'Manoj', 'Singh', '.', 'According', 'another', 'government', 'official', ',', 'forest', 'cover', 'state', 'increased', 'last', 'year', '.', '``', 'There', 'increase', '127', 'sqare', 'kilometer', '[', '79', 'sqare', 'mile', ']', 'forest', 'cover', 'Uttar', 'Pradesh', 'compared', '2017', ',', \"''\", 'state', 'government', 'spokesperson', 'quoted', 'saying', 'The', 'Indian', 'Express', 'newspaper', '.', '``', 'There', 'also', 'increase', 'tree', 'plant', '.', 'The', 'tree', 'cover', 'increased', '3.05', '%', ',', 'compared', 'national', 'average', '2.89', '%', ',', \"''\", 'official', 'said', ',', 'citing', '2019', 'Forest', 'Survey', 'India', 'report', '.', 'How', 'many', 'sapling', 'survive', '?', 'Uttar', 'Pradesh', 'State', 'Forest', 'Minister', 'Dara', 'Singh', 'said', 'long-term', 'survival', 'sapling', 'remains', 'concern', ',', 'adding', 'usually', '60', '%', 'sapling', 'survive', '.', 'The', 'rest', 'succumb', 'disease', 'lack', 'water', '.', 'However', ',', 'said', '80', '%', 'sapling', 'planted', 'last', 'four', 'annual', 'drive', 'survived', '.', '``', 'All', 'region', 'plantation', 'carried', 'geo-tagged', 'ascertain', 'exactly', 'happened', ',', \"''\", 'Chauhan', 'told', 'The', 'Pioneer', 'newspaper', '.', '``', 'These', 'sapling', 'carry', 'QR', 'code', 'official', 'maintain', 'record', 'verify', 'whether', 'sapling', 'survived', '.', 'Besides', ',', 'team', 'formed', 'monitor', 'progress', 'plantation', 'drive', ',', \"''\", 'said', '.', 'What', 'extent', 'India', \"'s\", 'tree', 'planting', 'project', '?', 'India', 'vowed', 'third', 'total', 'land', 'area', ',', '95', 'million', 'hectare', ',', 'forest', 'tree', 'cover', '2030', '.', 'The', 'government', 'allocated', '$', '6.2', 'billion', '(', '€5.2', 'billion', ')', 'tree-planting', 'across', 'country', '.', 'However', ',', 'industrial', 'development', 'rapidly', 'growing', 'population', 'put', 'stress', 'land', '.']\n"
     ]
    }
   ],
   "source": [
    "lemmatizer = nltk.stem.WordNetLemmatizer()\n",
    "lemmatized_tokens = [lemmatizer.lemmatize(token) for token in word_tokens]\n",
    "print(lemmatized_tokens)"
   ]
  },
  {
   "cell_type": "markdown",
   "id": "fe5f19e2-c982-466c-b994-1e5ad2781f9f",
   "metadata": {},
   "source": [
    "### Stemming"
   ]
  },
  {
   "cell_type": "code",
   "execution_count": 8,
   "id": "46718c1c-9b05-4043-a71a-8b8e6f33c00b",
   "metadata": {},
   "outputs": [
    {
     "name": "stdout",
     "output_type": "stream",
     "text": [
      "['million', 'peopl', 'india', 'took', 'part', 'annual', 'tree', 'plant', 'drive', 'sunday', '.', 'more', '250', 'million', 'sapl', 'plant', 'singl', 'day', 'across', 'countri', \"'s\", 'most-popul', 'state', '.', 'the', 'campaign', 'led', 'uttar', 'pradesh', 'state', 'govern', 'offici', ',', 'lawmak', ',', 'activist', ',', 'bid', 'reduc', 'carbon', 'emiss', 'combat', 'climat', 'chang', '.', 'where', 'tree', 'plant', '?', 'the', 'sapl', 'plant', 'volunt', 'forest', ',', 'farm', ',', 'school', ',', 'along', 'riverbank', 'highway', '.', '``', 'we', 'commit', 'increas', 'forest', 'cover', 'uttar', 'pradesh', '15', '%', 'total', 'land', 'area', 'next', 'five', 'year', ',', \"''\", 'said', 'state', 'forest', 'offici', 'manoj', 'singh', '.', 'accord', 'anoth', 'govern', 'offici', ',', 'forest', 'cover', 'state', 'increas', 'last', 'year', '.', '``', 'there', 'increas', '127', 'sqare', 'kilomet', '[', '79', 'sqare', 'mile', ']', 'forest', 'cover', 'uttar', 'pradesh', 'compar', '2017', ',', \"''\", 'state', 'govern', 'spokesperson', 'quot', 'say', 'the', 'indian', 'express', 'newspap', '.', '``', 'there', 'also', 'increas', 'tree', 'plant', '.', 'the', 'tree', 'cover', 'increas', '3.05', '%', ',', 'compar', 'nation', 'averag', '2.89', '%', ',', \"''\", 'offici', 'said', ',', 'cite', '2019', 'forest', 'survey', 'india', 'report', '.', 'how', 'mani', 'sapl', 'surviv', '?', 'uttar', 'pradesh', 'state', 'forest', 'minist', 'dara', 'singh', 'said', 'long-term', 'surviv', 'sapl', 'remain', 'concern', ',', 'ad', 'usual', '60', '%', 'sapl', 'surviv', '.', 'the', 'rest', 'succumb', 'diseas', 'lack', 'water', '.', 'howev', ',', 'said', '80', '%', 'sapl', 'plant', 'last', 'four', 'annual', 'drive', 'surviv', '.', '``', 'all', 'region', 'plantat', 'carri', 'geo-tag', 'ascertain', 'exactli', 'happen', ',', \"''\", 'chauhan', 'told', 'the', 'pioneer', 'newspap', '.', '``', 'these', 'sapl', 'carri', 'qr', 'code', 'offici', 'maintain', 'record', 'verifi', 'whether', 'sapl', 'surviv', '.', 'besid', ',', 'team', 'form', 'monitor', 'progress', 'plantat', 'drive', ',', \"''\", 'said', '.', 'what', 'extent', 'india', \"'s\", 'tree', 'plant', 'project', '?', 'india', 'vow', 'third', 'total', 'land', 'area', ',', '95', 'million', 'hectar', ',', 'forest', 'tree', 'cover', '2030', '.', 'the', 'govern', 'alloc', '$', '6.2', 'billion', '(', '€5.2', 'billion', ')', 'tree-plant', 'across', 'countri', '.', 'howev', ',', 'industri', 'develop', 'rapidli', 'grow', 'popul', 'put', 'stress', 'land', '.']\n"
     ]
    }
   ],
   "source": [
    "stemmer = nltk.stem.PorterStemmer()\n",
    "stemmed_tokens = [stemmer.stem(token) for token in word_tokens]\n",
    "print(stemmed_tokens)"
   ]
  },
  {
   "cell_type": "markdown",
   "id": "538beb38-828d-4c0f-8f52-9b832ebf66af",
   "metadata": {},
   "source": [
    "## TF-IDF\n",
    "\n",
    "What is TF-IDF?\n",
    "\n",
    "Term Frequency - Inverse Document Frequency (TF-IDF) is a widely used statistical method in natural language processing and information retrieval. It measures how important a term is within a document relative to a collection of documents (i.e., relative to a corpus).\n",
    "\n",
    "Words within a text document are transformed into importance numbers by a text vectorization process. There are many different text vectorization scoring schemes, with TF-IDF being one of the most common.\n",
    "\n",
    "[Source](https://www.learndatasci.com/glossary/tf-idf-term-frequency-inverse-document-frequency/)\n",
    "\n",
    "#### Term Frequency\n",
    "TF of a term or word is the number of times the term appears in a document compared to the total number of words in the document.\n",
    "\n",
    "$TF = \\frac{term}{total}$\n",
    "\n",
    "Where:\n",
    "- $term$ is the number of times the specific term appears in the document.\n",
    "- $total$ is the total number of terms in the document.\n",
    "\n",
    "#### Inverse Document Frequency\n",
    "\n",
    "IDF is a measure used in information retrieval and text mining to quantify the importance of a term within a collection of documents.\n",
    "\n",
    "$IDF(t) = \\log(\\frac{N}{DF(t)})$\n",
    "\n",
    "Where:\n",
    "- $N$ is the number of documents.\n",
    "- $DF(t)$ is the number of documents containing the term t (i.e., the document frequency of t)."
   ]
  },
  {
   "cell_type": "code",
   "execution_count": 9,
   "id": "aebe19e0-8d34-4e67-a244-c78265bc74d9",
   "metadata": {},
   "outputs": [],
   "source": [
    "def calculate_term_freq(doc):\n",
    "    word_tokens = nltk.word_tokenize(doc)\n",
    "    tf_dict = dict() #Creates a dictionary for mapping the key-value\n",
    "    for word in word_tokens:\n",
    "        tf_dict[word] = word_tokens.count(word) #Each word with its corresponding value i.e. count\n",
    "    tf = dict()\n",
    "    for word, count in tf_dict.items():\n",
    "        tf[word] = count/len(tf_dict)\n",
    "    return tf"
   ]
  },
  {
   "cell_type": "code",
   "execution_count": 10,
   "id": "8fdee3ab-db8c-4de9-9d33-0a4dabcd4868",
   "metadata": {},
   "outputs": [
    {
     "name": "stdout",
     "output_type": "stream",
     "text": [
      "Term Frequency of Doc 1:  {'Millions': 0.004807692307692308, 'of': 0.0673076923076923, 'people': 0.004807692307692308, 'in': 0.052884615384615384, 'India': 0.019230769230769232, 'took': 0.004807692307692308, 'part': 0.004807692307692308, 'an': 0.014423076923076924, 'annual': 0.009615384615384616, 'tree': 0.019230769230769232, 'planting': 0.009615384615384616, 'drive': 0.009615384615384616, 'Sunday': 0.004807692307692308, '.': 0.08653846153846154, 'More': 0.004807692307692308, 'than': 0.004807692307692308, '250': 0.004807692307692308, 'million': 0.009615384615384616, 'saplings': 0.038461538461538464, 'were': 0.014423076923076924, 'planted': 0.019230769230769232, 'a': 0.03365384615384615, 'single': 0.004807692307692308, 'day': 0.004807692307692308, 'across': 0.009615384615384616, 'the': 0.11538461538461539, 'country': 0.009615384615384616, \"'s\": 0.009615384615384616, 'most-populous': 0.004807692307692308, 'state': 0.02403846153846154, 'The': 0.03365384615384615, 'campaign': 0.004807692307692308, 'was': 0.009615384615384616, 'led': 0.004807692307692308, 'by': 0.014423076923076924, 'Uttar': 0.019230769230769232, 'Pradesh': 0.019230769230769232, 'government': 0.019230769230769232, 'officials': 0.009615384615384616, ',': 0.09615384615384616, 'lawmakers': 0.004807692307692308, 'and': 0.038461538461538464, 'activists': 0.004807692307692308, 'bid': 0.004807692307692308, 'to': 0.04807692307692308, 'reduce': 0.004807692307692308, 'carbon': 0.004807692307692308, 'emissions': 0.004807692307692308, 'combat': 0.004807692307692308, 'climate': 0.004807692307692308, 'change': 0.004807692307692308, 'Where': 0.004807692307692308, 'trees': 0.009615384615384616, '?': 0.014423076923076924, 'volunteers': 0.004807692307692308, 'forests': 0.004807692307692308, 'farms': 0.004807692307692308, 'schools': 0.004807692307692308, 'along': 0.004807692307692308, 'riverbanks': 0.004807692307692308, 'highways': 0.004807692307692308, '``': 0.02403846153846154, 'We': 0.004807692307692308, 'are': 0.004807692307692308, 'committed': 0.004807692307692308, 'increasing': 0.004807692307692308, 'forest': 0.02403846153846154, 'cover': 0.02403846153846154, 'over': 0.009615384615384616, '15': 0.004807692307692308, '%': 0.02403846153846154, 'total': 0.009615384615384616, 'land': 0.014423076923076924, 'area': 0.009615384615384616, 'next': 0.004807692307692308, 'five': 0.004807692307692308, 'years': 0.009615384615384616, \"''\": 0.02403846153846154, 'said': 0.02403846153846154, 'official': 0.014423076923076924, 'Manoj': 0.004807692307692308, 'Singh': 0.009615384615384616, 'According': 0.004807692307692308, 'another': 0.004807692307692308, 'has': 0.03365384615384615, 'increased': 0.009615384615384616, 'last': 0.009615384615384616, 'few': 0.004807692307692308, 'There': 0.009615384615384616, 'been': 0.019230769230769232, 'increase': 0.009615384615384616, '127': 0.004807692307692308, 'sqare': 0.009615384615384616, 'kilometers': 0.004807692307692308, '[': 0.004807692307692308, '79': 0.004807692307692308, 'miles': 0.004807692307692308, ']': 0.004807692307692308, 'as': 0.014423076923076924, 'compared': 0.009615384615384616, '2017': 0.004807692307692308, 'spokesperson': 0.004807692307692308, 'quoted': 0.004807692307692308, 'saying': 0.004807692307692308, 'Indian': 0.004807692307692308, 'Express': 0.004807692307692308, 'newspaper': 0.009615384615384616, 'also': 0.004807692307692308, 'plants': 0.004807692307692308, '3.05': 0.004807692307692308, 'national': 0.004807692307692308, 'average': 0.004807692307692308, '2.89': 0.004807692307692308, 'citing': 0.004807692307692308, '2019': 0.004807692307692308, 'Forest': 0.009615384615384616, 'Survey': 0.004807692307692308, 'report': 0.004807692307692308, 'How': 0.004807692307692308, 'many': 0.004807692307692308, 'survive': 0.009615384615384616, 'State': 0.004807692307692308, 'Minister': 0.004807692307692308, 'Dara': 0.004807692307692308, 'long-term': 0.004807692307692308, 'survival': 0.004807692307692308, 'remains': 0.004807692307692308, 'concern': 0.004807692307692308, 'adding': 0.004807692307692308, 'that': 0.019230769230769232, 'usually': 0.004807692307692308, 'only': 0.004807692307692308, '60': 0.004807692307692308, 'rest': 0.004807692307692308, 'succumb': 0.004807692307692308, 'disease': 0.004807692307692308, 'or': 0.014423076923076924, 'lack': 0.004807692307692308, 'water': 0.004807692307692308, 'However': 0.009615384615384616, 'he': 0.009615384615384616, 'about': 0.004807692307692308, '80': 0.004807692307692308, 'four': 0.004807692307692308, 'drives': 0.004807692307692308, 'have': 0.019230769230769232, 'survived': 0.009615384615384616, 'All': 0.004807692307692308, 'regions': 0.004807692307692308, 'where': 0.004807692307692308, 'plantation': 0.009615384615384616, 'is': 0.009615384615384616, 'being': 0.004807692307692308, 'carried': 0.004807692307692308, 'out': 0.004807692307692308, 'geo-tagged': 0.004807692307692308, 'so': 0.009615384615384616, 'we': 0.004807692307692308, 'can': 0.009615384615384616, 'ascertain': 0.004807692307692308, 'what': 0.004807692307692308, 'exactly': 0.004807692307692308, 'happened': 0.004807692307692308, 'Chauhan': 0.004807692307692308, 'told': 0.004807692307692308, 'Pioneer': 0.004807692307692308, 'These': 0.004807692307692308, 'carry': 0.004807692307692308, 'QR': 0.004807692307692308, 'codes': 0.004807692307692308, 'maintain': 0.004807692307692308, 'record': 0.004807692307692308, 'verify': 0.004807692307692308, 'whether': 0.004807692307692308, 'not': 0.004807692307692308, 'Besides': 0.004807692307692308, 'teams': 0.004807692307692308, 'formed': 0.004807692307692308, 'monitor': 0.004807692307692308, 'progress': 0.004807692307692308, 'What': 0.004807692307692308, 'extent': 0.004807692307692308, 'project': 0.004807692307692308, 'vowed': 0.004807692307692308, 'third': 0.004807692307692308, 'its': 0.004807692307692308, '95': 0.004807692307692308, 'hectares': 0.004807692307692308, 'under': 0.004807692307692308, '2030': 0.004807692307692308, 'allocated': 0.004807692307692308, '$': 0.004807692307692308, '6.2': 0.004807692307692308, 'billion': 0.009615384615384616, '(': 0.004807692307692308, '€5.2': 0.004807692307692308, ')': 0.004807692307692308, 'for': 0.004807692307692308, 'tree-planting': 0.004807692307692308, 'industrial': 0.004807692307692308, 'development': 0.004807692307692308, 'rapidly': 0.004807692307692308, 'growing': 0.004807692307692308, 'population': 0.004807692307692308, 'put': 0.004807692307692308, 'further': 0.004807692307692308, 'stress': 0.004807692307692308, 'on': 0.004807692307692308} \n",
      "\n",
      "\n",
      "Term Frequency of Doc 2:  {'Millions': 0.004807692307692308, 'of': 0.0673076923076923, 'people': 0.004807692307692308, 'in': 0.052884615384615384, 'India': 0.019230769230769232, 'took': 0.004807692307692308, 'part': 0.004807692307692308, 'an': 0.014423076923076924, 'annual': 0.009615384615384616, 'tree': 0.019230769230769232, 'planting': 0.009615384615384616, 'drive': 0.009615384615384616, 'Sunday': 0.004807692307692308, '.': 0.08653846153846154, 'More': 0.004807692307692308, 'than': 0.004807692307692308, '250': 0.004807692307692308, 'million': 0.009615384615384616, 'saplings': 0.038461538461538464, 'were': 0.014423076923076924, 'planted': 0.019230769230769232, 'a': 0.03365384615384615, 'single': 0.004807692307692308, 'day': 0.004807692307692308, 'across': 0.009615384615384616, 'the': 0.11538461538461539, 'country': 0.009615384615384616, \"'s\": 0.009615384615384616, 'most-populous': 0.004807692307692308, 'state': 0.02403846153846154, 'The': 0.03365384615384615, 'campaign': 0.004807692307692308, 'was': 0.009615384615384616, 'led': 0.004807692307692308, 'by': 0.014423076923076924, 'Uttar': 0.019230769230769232, 'Pradesh': 0.019230769230769232, 'government': 0.019230769230769232, 'officials': 0.009615384615384616, ',': 0.09615384615384616, 'lawmakers': 0.004807692307692308, 'and': 0.038461538461538464, 'activists': 0.004807692307692308, 'bid': 0.004807692307692308, 'to': 0.04807692307692308, 'reduce': 0.004807692307692308, 'carbon': 0.004807692307692308, 'emissions': 0.004807692307692308, 'combat': 0.004807692307692308, 'climate': 0.004807692307692308, 'change': 0.004807692307692308, 'Where': 0.004807692307692308, 'trees': 0.009615384615384616, '?': 0.014423076923076924, 'volunteers': 0.004807692307692308, 'forests': 0.004807692307692308, 'farms': 0.004807692307692308, 'schools': 0.004807692307692308, 'along': 0.004807692307692308, 'riverbanks': 0.004807692307692308, 'highways': 0.004807692307692308, '``': 0.02403846153846154, 'We': 0.004807692307692308, 'are': 0.004807692307692308, 'committed': 0.004807692307692308, 'increasing': 0.004807692307692308, 'forest': 0.02403846153846154, 'cover': 0.02403846153846154, 'over': 0.009615384615384616, '15': 0.004807692307692308, '%': 0.02403846153846154, 'total': 0.009615384615384616, 'land': 0.014423076923076924, 'area': 0.009615384615384616, 'next': 0.004807692307692308, 'five': 0.004807692307692308, 'years': 0.009615384615384616, \"''\": 0.02403846153846154, 'said': 0.02403846153846154, 'official': 0.014423076923076924, 'Manoj': 0.004807692307692308, 'Singh': 0.009615384615384616, 'According': 0.004807692307692308, 'another': 0.004807692307692308, 'has': 0.03365384615384615, 'increased': 0.009615384615384616, 'last': 0.009615384615384616, 'few': 0.004807692307692308, 'There': 0.009615384615384616, 'been': 0.019230769230769232, 'increase': 0.009615384615384616, '127': 0.004807692307692308, 'sqare': 0.009615384615384616, 'kilometers': 0.004807692307692308, '[': 0.004807692307692308, '79': 0.004807692307692308, 'miles': 0.004807692307692308, ']': 0.004807692307692308, 'as': 0.014423076923076924, 'compared': 0.009615384615384616, '2017': 0.004807692307692308, 'spokesperson': 0.004807692307692308, 'quoted': 0.004807692307692308, 'saying': 0.004807692307692308, 'Indian': 0.004807692307692308, 'Express': 0.004807692307692308, 'newspaper': 0.009615384615384616, 'also': 0.004807692307692308, 'plants': 0.004807692307692308, '3.05': 0.004807692307692308, 'national': 0.004807692307692308, 'average': 0.004807692307692308, '2.89': 0.004807692307692308, 'citing': 0.004807692307692308, '2019': 0.004807692307692308, 'Forest': 0.009615384615384616, 'Survey': 0.004807692307692308, 'report': 0.004807692307692308, 'How': 0.004807692307692308, 'many': 0.004807692307692308, 'survive': 0.009615384615384616, 'State': 0.004807692307692308, 'Minister': 0.004807692307692308, 'Dara': 0.004807692307692308, 'long-term': 0.004807692307692308, 'survival': 0.004807692307692308, 'remains': 0.004807692307692308, 'concern': 0.004807692307692308, 'adding': 0.004807692307692308, 'that': 0.019230769230769232, 'usually': 0.004807692307692308, 'only': 0.004807692307692308, '60': 0.004807692307692308, 'rest': 0.004807692307692308, 'succumb': 0.004807692307692308, 'disease': 0.004807692307692308, 'or': 0.014423076923076924, 'lack': 0.004807692307692308, 'water': 0.004807692307692308, 'However': 0.009615384615384616, 'he': 0.009615384615384616, 'about': 0.004807692307692308, '80': 0.004807692307692308, 'four': 0.004807692307692308, 'drives': 0.004807692307692308, 'have': 0.019230769230769232, 'survived': 0.009615384615384616, 'All': 0.004807692307692308, 'regions': 0.004807692307692308, 'where': 0.004807692307692308, 'plantation': 0.009615384615384616, 'is': 0.009615384615384616, 'being': 0.004807692307692308, 'carried': 0.004807692307692308, 'out': 0.004807692307692308, 'geo-tagged': 0.004807692307692308, 'so': 0.009615384615384616, 'we': 0.004807692307692308, 'can': 0.009615384615384616, 'ascertain': 0.004807692307692308, 'what': 0.004807692307692308, 'exactly': 0.004807692307692308, 'happened': 0.004807692307692308, 'Chauhan': 0.004807692307692308, 'told': 0.004807692307692308, 'Pioneer': 0.004807692307692308, 'These': 0.004807692307692308, 'carry': 0.004807692307692308, 'QR': 0.004807692307692308, 'codes': 0.004807692307692308, 'maintain': 0.004807692307692308, 'record': 0.004807692307692308, 'verify': 0.004807692307692308, 'whether': 0.004807692307692308, 'not': 0.004807692307692308, 'Besides': 0.004807692307692308, 'teams': 0.004807692307692308, 'formed': 0.004807692307692308, 'monitor': 0.004807692307692308, 'progress': 0.004807692307692308, 'What': 0.004807692307692308, 'extent': 0.004807692307692308, 'project': 0.004807692307692308, 'vowed': 0.004807692307692308, 'third': 0.004807692307692308, 'its': 0.004807692307692308, '95': 0.004807692307692308, 'hectares': 0.004807692307692308, 'under': 0.004807692307692308, '2030': 0.004807692307692308, 'allocated': 0.004807692307692308, '$': 0.004807692307692308, '6.2': 0.004807692307692308, 'billion': 0.009615384615384616, '(': 0.004807692307692308, '€5.2': 0.004807692307692308, ')': 0.004807692307692308, 'for': 0.004807692307692308, 'tree-planting': 0.004807692307692308, 'industrial': 0.004807692307692308, 'development': 0.004807692307692308, 'rapidly': 0.004807692307692308, 'growing': 0.004807692307692308, 'population': 0.004807692307692308, 'put': 0.004807692307692308, 'further': 0.004807692307692308, 'stress': 0.004807692307692308, 'on': 0.004807692307692308}\n"
     ]
    }
   ],
   "source": [
    "tf = calculate_term_freq(doc)\n",
    "tf2 = calculate_term_freq(doc2)\n",
    "\n",
    "print(\"Term Frequency of Doc 1: \", tf, \"\\n\\n\")\n",
    "print(\"Term Frequency of Doc 2: \", tf2)"
   ]
  },
  {
   "cell_type": "code",
   "execution_count": 25,
   "id": "dcc100b1-7d19-4948-856f-a1ce90d1ef29",
   "metadata": {},
   "outputs": [
    {
     "name": "stdout",
     "output_type": "stream",
     "text": [
      "['Millions', 'of', 'people', 'in', 'India', 'took', 'part', 'in', 'an', 'annual', 'tree', 'planting', 'drive', 'Sunday', '.', 'More', 'than', '250', 'million', 'saplings', 'were', 'planted', 'in', 'a', 'single', 'day', 'across', 'the', 'country', \"'s\", 'most-populous', 'state', '.', 'The', 'campaign', 'was', 'led', 'by', 'Uttar', 'Pradesh', 'state', 'government', 'officials', ',', 'lawmakers', ',', 'and', 'activists', ',', 'in', 'a', 'bid', 'to', 'reduce', 'carbon', 'emissions', 'and', 'combat', 'climate', 'change', '.', 'Where', 'were', 'the', 'trees', 'planted', '?', 'The', 'saplings', 'were', 'planted', 'by', 'volunteers', 'in', 'forests', ',', 'farms', ',', 'schools', ',', 'and', 'along', 'riverbanks', 'and', 'highways', '.', '``', 'We', 'are', 'committed', 'to', 'increasing', 'the', 'forest', 'cover', 'of', 'Uttar', 'Pradesh', 'to', 'over', '15', '%', 'of', 'the', 'total', 'land', 'area', 'in', 'the', 'next', 'five', 'years', ',', \"''\", 'said', 'state', 'forest', 'official', 'Manoj', 'Singh', '.', 'According', 'to', 'another', 'government', 'official', ',', 'the', 'forest', 'cover', 'of', 'the', 'state', 'has', 'increased', 'over', 'the', 'last', 'few', 'years', '.', '``', 'There', 'has', 'been', 'an', 'increase', 'of', '127', 'sqare', 'kilometers', '[', '79', 'sqare', 'miles', ']', 'in', 'the', 'forest', 'cover', 'in', 'Uttar', 'Pradesh', 'as', 'compared', 'to', '2017', ',', \"''\", 'a', 'state', 'government', 'spokesperson', 'was', 'quoted', 'as', 'saying', 'in', 'The', 'Indian', 'Express', 'newspaper', '.', '``', 'There', 'has', 'also', 'been', 'an', 'increase', 'in', 'trees', 'and', 'plants', '.', 'The', 'tree', 'cover', 'has', 'increased', 'to', '3.05', '%', ',', 'as', 'compared', 'to', 'the', 'national', 'average', 'of', '2.89', '%', ',', \"''\", 'the', 'official', 'said', ',', 'citing', 'the', '2019', 'Forest', 'Survey', 'of', 'India', 'report', '.', 'How', 'many', 'saplings', 'survive', '?', 'Uttar', 'Pradesh', 'State', 'Forest', 'Minister', 'Dara', 'Singh', 'said', 'the', 'long-term', 'survival', 'of', 'the', 'saplings', 'remains', 'a', 'concern', ',', 'adding', 'that', 'usually', 'only', '60', '%', 'of', 'the', 'saplings', 'survive', '.', 'The', 'rest', 'succumb', 'to', 'disease', 'or', 'lack', 'of', 'water', '.', 'However', ',', 'he', 'said', 'that', 'about', '80', '%', 'of', 'the', 'saplings', 'planted', 'in', 'the', 'last', 'four', 'annual', 'drives', 'have', 'survived', '.', '``', 'All', 'the', 'regions', 'where', 'plantation', 'is', 'being', 'carried', 'out', 'have', 'been', 'geo-tagged', 'so', 'that', 'we', 'can', 'ascertain', 'what', 'exactly', 'happened', ',', \"''\", 'Chauhan', 'told', 'The', 'Pioneer', 'newspaper', '.', '``', 'These', 'saplings', 'carry', 'QR', 'codes', 'so', 'that', 'officials', 'can', 'maintain', 'a', 'record', 'and', 'verify', 'whether', 'the', 'saplings', 'survived', 'or', 'not', '.', 'Besides', ',', 'teams', 'have', 'been', 'formed', 'to', 'monitor', 'progress', 'of', 'the', 'plantation', 'drive', ',', \"''\", 'he', 'said', '.', 'What', 'is', 'the', 'extent', 'of', 'India', \"'s\", 'tree', 'planting', 'project', '?', 'India', 'has', 'vowed', 'to', 'have', 'a', 'third', 'of', 'its', 'total', 'land', 'area', ',', 'or', '95', 'million', 'hectares', ',', 'under', 'forest', 'and', 'tree', 'cover', 'by', '2030', '.', 'The', 'government', 'has', 'allocated', '$', '6.2', 'billion', '(', '€5.2', 'billion', ')', 'for', 'the', 'tree-planting', 'across', 'the', 'country', '.', 'However', ',', 'industrial', 'development', 'and', 'a', 'rapidly', 'growing', 'population', 'has', 'put', 'further', 'stress', 'on', 'the', 'land', '.']\n",
      "['Millions', 'of', 'people', 'in', 'India', 'took', 'part', 'in', 'an', 'annual', 'tree', 'planting', 'drive', 'Sunday', '.', 'More', 'than', '250', 'million', 'saplings', 'were', 'planted', 'in', 'a', 'single', 'day', 'across', 'the', 'country', \"'s\", 'most-populous', 'state', '.', 'The', 'campaign', 'was', 'led', 'by', 'Uttar', 'Pradesh', 'state', 'government', 'officials', ',', 'lawmakers', ',', 'and', 'activists', ',', 'in', 'a', 'bid', 'to', 'reduce', 'carbon', 'emissions', 'and', 'combat', 'climate', 'change', '.', 'Where', 'were', 'the', 'trees', 'planted', '?', 'The', 'saplings', 'were', 'planted', 'by', 'volunteers', 'in', 'forests', ',', 'farms', ',', 'schools', ',', 'and', 'along', 'riverbanks', 'and', 'highways', '.', '``', 'We', 'are', 'committed', 'to', 'increasing', 'the', 'forest', 'cover', 'of', 'Uttar', 'Pradesh', 'to', 'over', '15', '%', 'of', 'the', 'total', 'land', 'area', 'in', 'the', 'next', 'five', 'years', ',', \"''\", 'said', 'state', 'forest', 'official', 'Manoj', 'Singh', '.', 'According', 'to', 'another', 'government', 'official', ',', 'the', 'forest', 'cover', 'of', 'the', 'state', 'has', 'increased', 'over', 'the', 'last', 'few', 'years', '.', '``', 'There', 'has', 'been', 'an', 'increase', 'of', '127', 'sqare', 'kilometers', '[', '79', 'sqare', 'miles', ']', 'in', 'the', 'forest', 'cover', 'in', 'Uttar', 'Pradesh', 'as', 'compared', 'to', '2017', ',', \"''\", 'a', 'state', 'government', 'spokesperson', 'was', 'quoted', 'as', 'saying', 'in', 'The', 'Indian', 'Express', 'newspaper', '.', '``', 'There', 'has', 'also', 'been', 'an', 'increase', 'in', 'trees', 'and', 'plants', '.', 'The', 'tree', 'cover', 'has', 'increased', 'to', '3.05', '%', ',', 'as', 'compared', 'to', 'the', 'national', 'average', 'of', '2.89', '%', ',', \"''\", 'the', 'official', 'said', ',', 'citing', 'the', '2019', 'Forest', 'Survey', 'of', 'India', 'report', '.', 'How', 'many', 'saplings', 'survive', '?', 'Uttar', 'Pradesh', 'State', 'Forest', 'Minister', 'Dara', 'Singh', 'said', 'the', 'long-term', 'survival', 'of', 'the', 'saplings', 'remains', 'a', 'concern', ',', 'adding', 'that', 'usually', 'only', '60', '%', 'of', 'the', 'saplings', 'survive', '.', 'The', 'rest', 'succumb', 'to', 'disease', 'or', 'lack', 'of', 'water', '.', 'However', ',', 'he', 'said', 'that', 'about', '80', '%', 'of', 'the', 'saplings', 'planted', 'in', 'the', 'last', 'four', 'annual', 'drives', 'have', 'survived', '.', '``', 'All', 'the', 'regions', 'where', 'plantation', 'is', 'being', 'carried', 'out', 'have', 'been', 'geo-tagged', 'so', 'that', 'we', 'can', 'ascertain', 'what', 'exactly', 'happened', ',', \"''\", 'Chauhan', 'told', 'The', 'Pioneer', 'newspaper', '.', '``', 'These', 'saplings', 'carry', 'QR', 'codes', 'so', 'that', 'officials', 'can', 'maintain', 'a', 'record', 'and', 'verify', 'whether', 'the', 'saplings', 'survived', 'or', 'not', '.', 'Besides', ',', 'teams', 'have', 'been', 'formed', 'to', 'monitor', 'progress', 'of', 'the', 'plantation', 'drive', ',', \"''\", 'he', 'said', '.', 'What', 'is', 'the', 'extent', 'of', 'India', \"'s\", 'tree', 'planting', 'project', '?', 'India', 'has', 'vowed', 'to', 'have', 'a', 'third', 'of', 'its', 'total', 'land', 'area', ',', 'or', '95', 'million', 'hectares', ',', 'under', 'forest', 'and', 'tree', 'cover', 'by', '2030', '.', 'The', 'government', 'has', 'allocated', '$', '6.2', 'billion', '(', '€5.2', 'billion', ')', 'for', 'the', 'tree-planting', 'across', 'the', 'country', '.', 'However', ',', 'industrial', 'development', 'and', 'a', 'rapidly', 'growing', 'population', 'has', 'put', 'further', 'stress', 'on', 'the', 'land', '.']\n",
      "{'Millions': 0.0, 'of': 0.0, 'people': 0.0, 'in': 0.0, 'India': 0.0, 'took': 0.0, 'part': 0.0, 'an': 0.0, 'annual': 0.0, 'tree': 0.0, 'planting': 0.0, 'drive': 0.0, 'Sunday': 0.0, '.': 0.0, 'More': 0.0, 'than': 0.0, '250': 0.0, 'million': 0.0, 'saplings': 0.0, 'were': 0.0, 'planted': 0.0, 'a': 0.0, 'single': 0.0, 'day': 0.0, 'across': 0.0, 'the': 0.0, 'country': 0.0, \"'s\": 0.0, 'most-populous': 0.0, 'state': 0.0, 'The': 0.0, 'campaign': 0.0, 'was': 0.0, 'led': 0.0, 'by': 0.0, 'Uttar': 0.0, 'Pradesh': 0.0, 'government': 0.0, 'officials': 0.0, ',': 0.0, 'lawmakers': 0.0, 'and': 0.0, 'activists': 0.0, 'bid': 0.0, 'to': 0.0, 'reduce': 0.0, 'carbon': 0.0, 'emissions': 0.0, 'combat': 0.0, 'climate': 0.0, 'change': 0.0, 'Where': 0.0, 'trees': 0.0, '?': 0.0, 'volunteers': 0.0, 'forests': 0.0, 'farms': 0.0, 'schools': 0.0, 'along': 0.0, 'riverbanks': 0.0, 'highways': 0.0, '``': 0.0, 'We': 0.0, 'are': 0.0, 'committed': 0.0, 'increasing': 0.0, 'forest': 0.0, 'cover': 0.0, 'over': 0.0, '15': 0.0, '%': 0.0, 'total': 0.0, 'land': 0.0, 'area': 0.0, 'next': 0.0, 'five': 0.0, 'years': 0.0, \"''\": 0.0, 'said': 0.0, 'official': 0.0, 'Manoj': 0.0, 'Singh': 0.0, 'According': 0.0, 'another': 0.0, 'has': 0.0, 'increased': 0.0, 'last': 0.0, 'few': 0.0, 'There': 0.0, 'been': 0.0, 'increase': 0.0, '127': 0.0, 'sqare': 0.0, 'kilometers': 0.0, '[': 0.0, '79': 0.0, 'miles': 0.0, ']': 0.0, 'as': 0.0, 'compared': 0.0, '2017': 0.0, 'spokesperson': 0.0, 'quoted': 0.0, 'saying': 0.0, 'Indian': 0.0, 'Express': 0.0, 'newspaper': 0.0, 'also': 0.0, 'plants': 0.0, '3.05': 0.0, 'national': 0.0, 'average': 0.0, '2.89': 0.0, 'citing': 0.0, '2019': 0.0, 'Forest': 0.0, 'Survey': 0.0, 'report': 0.0, 'How': 0.0, 'many': 0.0, 'survive': 0.0, 'State': 0.0, 'Minister': 0.0, 'Dara': 0.0, 'long-term': 0.0, 'survival': 0.0, 'remains': 0.0, 'concern': 0.0, 'adding': 0.0, 'that': 0.0, 'usually': 0.0, 'only': 0.0, '60': 0.0, 'rest': 0.0, 'succumb': 0.0, 'disease': 0.0, 'or': 0.0, 'lack': 0.0, 'water': 0.0, 'However': 0.0, 'he': 0.0, 'about': 0.0, '80': 0.0, 'four': 0.0, 'drives': 0.0, 'have': 0.0, 'survived': 0.0, 'All': 0.0, 'regions': 0.0, 'where': 0.0, 'plantation': 0.0, 'is': 0.0, 'being': 0.0, 'carried': 0.0, 'out': 0.0, 'geo-tagged': 0.0, 'so': 0.0, 'we': 0.0, 'can': 0.0, 'ascertain': 0.0, 'what': 0.0, 'exactly': 0.0, 'happened': 0.0, 'Chauhan': 0.0, 'told': 0.0, 'Pioneer': 0.0, 'These': 0.0, 'carry': 0.0, 'QR': 0.0, 'codes': 0.0, 'maintain': 0.0, 'record': 0.0, 'verify': 0.0, 'whether': 0.0, 'not': 0.0, 'Besides': 0.0, 'teams': 0.0, 'formed': 0.0, 'monitor': 0.0, 'progress': 0.0, 'What': 0.0, 'extent': 0.0, 'project': 0.0, 'vowed': 0.0, 'third': 0.0, 'its': 0.0, '95': 0.0, 'hectares': 0.0, 'under': 0.0, '2030': 0.0, 'allocated': 0.0, '$': 0.0, '6.2': 0.0, 'billion': 0.0, '(': 0.0, '€5.2': 0.0, ')': 0.0, 'for': 0.0, 'tree-planting': 0.0, 'industrial': 0.0, 'development': 0.0, 'rapidly': 0.0, 'growing': 0.0, 'population': 0.0, 'put': 0.0, 'further': 0.0, 'stress': 0.0, 'on': 0.0}\n"
     ]
    }
   ],
   "source": [
    "d1_tokens = nltk.word_tokenize(doc)\n",
    "d2_tokens = nltk.word_tokenize(doc2)\n",
    "\n",
    "def calculate_idf():\n",
    "    N = 2\n",
    "    all_tokens = d1_tokens + d2_tokens\n",
    "    idf = dict()\n",
    "    for token in all_tokens:\n",
    "        f = 0                   # Changed f from 1 back to 0\n",
    "        if token in d1_tokens:\n",
    "            f+=1\n",
    "        if token in d2_tokens:\n",
    "            f+=1\n",
    "        idf[token] = math.log(N/f)\n",
    "    return idf\n",
    "\n",
    "idf = calculate_idf()\n",
    "print(d1_tokens)\n",
    "print(d2_tokens)\n",
    "print(idf)"
   ]
  },
  {
   "cell_type": "code",
   "execution_count": 21,
   "id": "bb960bf0-0c50-4b25-8511-dda3676dc873",
   "metadata": {},
   "outputs": [],
   "source": [
    "#TF-IDF of terms in documnet1\n",
    "d1_repr = []\n",
    "for token in d1_tokens:\n",
    "    d1_repr.append(tf[token] * idf[token])\n",
    "\n",
    "#TF-IDF of terms in documnet2\n",
    "d2_repr = []\n",
    "for token in d2_tokens:\n",
    "    d2_repr.append(tf2[token] * idf[token])"
   ]
  },
  {
   "cell_type": "code",
   "execution_count": 22,
   "id": "68f08dc7-aaf8-4806-b15c-0f855123fc83",
   "metadata": {},
   "outputs": [
    {
     "name": "stdout",
     "output_type": "stream",
     "text": [
      "[0.0, 0.0, 0.0, 0.0, 0.0, 0.0, 0.0, 0.0, 0.0, 0.0, 0.0, 0.0, 0.0, 0.0, 0.0, 0.0, 0.0, 0.0, 0.0, 0.0, 0.0, 0.0, 0.0, 0.0, 0.0, 0.0, 0.0, 0.0, 0.0, 0.0, 0.0, 0.0, 0.0, 0.0, 0.0, 0.0, 0.0, 0.0, 0.0, 0.0, 0.0, 0.0, 0.0, 0.0, 0.0, 0.0, 0.0, 0.0, 0.0, 0.0, 0.0, 0.0, 0.0, 0.0, 0.0, 0.0, 0.0, 0.0, 0.0, 0.0, 0.0, 0.0, 0.0, 0.0, 0.0, 0.0, 0.0, 0.0, 0.0, 0.0, 0.0, 0.0, 0.0, 0.0, 0.0, 0.0, 0.0, 0.0, 0.0, 0.0, 0.0, 0.0, 0.0, 0.0, 0.0, 0.0, 0.0, 0.0, 0.0, 0.0, 0.0, 0.0, 0.0, 0.0, 0.0, 0.0, 0.0, 0.0, 0.0, 0.0, 0.0, 0.0, 0.0, 0.0, 0.0, 0.0, 0.0, 0.0, 0.0, 0.0, 0.0, 0.0, 0.0, 0.0, 0.0, 0.0, 0.0, 0.0, 0.0, 0.0, 0.0, 0.0, 0.0, 0.0, 0.0, 0.0, 0.0, 0.0, 0.0, 0.0, 0.0, 0.0, 0.0, 0.0, 0.0, 0.0, 0.0, 0.0, 0.0, 0.0, 0.0, 0.0, 0.0, 0.0, 0.0, 0.0, 0.0, 0.0, 0.0, 0.0, 0.0, 0.0, 0.0, 0.0, 0.0, 0.0, 0.0, 0.0, 0.0, 0.0, 0.0, 0.0, 0.0, 0.0, 0.0, 0.0, 0.0, 0.0, 0.0, 0.0, 0.0, 0.0, 0.0, 0.0, 0.0, 0.0, 0.0, 0.0, 0.0, 0.0, 0.0, 0.0, 0.0, 0.0, 0.0, 0.0, 0.0, 0.0, 0.0, 0.0, 0.0, 0.0, 0.0, 0.0, 0.0, 0.0, 0.0, 0.0, 0.0, 0.0, 0.0, 0.0, 0.0, 0.0, 0.0, 0.0, 0.0, 0.0, 0.0, 0.0, 0.0, 0.0, 0.0, 0.0, 0.0, 0.0, 0.0, 0.0, 0.0, 0.0, 0.0, 0.0, 0.0, 0.0, 0.0, 0.0, 0.0, 0.0, 0.0, 0.0, 0.0, 0.0, 0.0, 0.0, 0.0, 0.0, 0.0, 0.0, 0.0, 0.0, 0.0, 0.0, 0.0, 0.0, 0.0, 0.0, 0.0, 0.0, 0.0, 0.0, 0.0, 0.0, 0.0, 0.0, 0.0, 0.0, 0.0, 0.0, 0.0, 0.0, 0.0, 0.0, 0.0, 0.0, 0.0, 0.0, 0.0, 0.0, 0.0, 0.0, 0.0, 0.0, 0.0, 0.0, 0.0, 0.0, 0.0, 0.0, 0.0, 0.0, 0.0, 0.0, 0.0, 0.0, 0.0, 0.0, 0.0, 0.0, 0.0, 0.0, 0.0, 0.0, 0.0, 0.0, 0.0, 0.0, 0.0, 0.0, 0.0, 0.0, 0.0, 0.0, 0.0, 0.0, 0.0, 0.0, 0.0, 0.0, 0.0, 0.0, 0.0, 0.0, 0.0, 0.0, 0.0, 0.0, 0.0, 0.0, 0.0, 0.0, 0.0, 0.0, 0.0, 0.0, 0.0, 0.0, 0.0, 0.0, 0.0, 0.0, 0.0, 0.0, 0.0, 0.0, 0.0, 0.0, 0.0, 0.0, 0.0, 0.0, 0.0, 0.0, 0.0, 0.0, 0.0, 0.0, 0.0, 0.0, 0.0, 0.0, 0.0, 0.0, 0.0, 0.0, 0.0, 0.0, 0.0, 0.0, 0.0, 0.0, 0.0, 0.0, 0.0, 0.0, 0.0, 0.0, 0.0, 0.0, 0.0, 0.0, 0.0, 0.0, 0.0, 0.0, 0.0, 0.0, 0.0, 0.0, 0.0, 0.0, 0.0, 0.0, 0.0, 0.0, 0.0, 0.0, 0.0, 0.0, 0.0, 0.0, 0.0, 0.0, 0.0, 0.0, 0.0, 0.0, 0.0, 0.0, 0.0, 0.0, 0.0, 0.0, 0.0, 0.0, 0.0, 0.0, 0.0, 0.0, 0.0, 0.0, 0.0, 0.0, 0.0, 0.0, 0.0, 0.0, 0.0, 0.0, 0.0, 0.0, 0.0, 0.0, 0.0, 0.0, 0.0, 0.0, 0.0, 0.0, 0.0, 0.0, 0.0, 0.0, 0.0, 0.0]\n"
     ]
    }
   ],
   "source": [
    "print(d1_repr)"
   ]
  },
  {
   "cell_type": "code",
   "execution_count": 23,
   "id": "f2cdb272-8a4b-4e8d-94cf-801d778ed91f",
   "metadata": {},
   "outputs": [
    {
     "name": "stdout",
     "output_type": "stream",
     "text": [
      "[0.0, 0.0, 0.0, 0.0, 0.0, 0.0, 0.0, 0.0, 0.0, 0.0, 0.0, 0.0, 0.0, 0.0, 0.0, 0.0, 0.0, 0.0, 0.0, 0.0, 0.0, 0.0, 0.0, 0.0, 0.0, 0.0, 0.0, 0.0, 0.0, 0.0, 0.0, 0.0, 0.0, 0.0, 0.0, 0.0, 0.0, 0.0, 0.0, 0.0, 0.0, 0.0, 0.0, 0.0, 0.0, 0.0, 0.0, 0.0, 0.0, 0.0, 0.0, 0.0, 0.0, 0.0, 0.0, 0.0, 0.0, 0.0, 0.0, 0.0, 0.0, 0.0, 0.0, 0.0, 0.0, 0.0, 0.0, 0.0, 0.0, 0.0, 0.0, 0.0, 0.0, 0.0, 0.0, 0.0, 0.0, 0.0, 0.0, 0.0, 0.0, 0.0, 0.0, 0.0, 0.0, 0.0, 0.0, 0.0, 0.0, 0.0, 0.0, 0.0, 0.0, 0.0, 0.0, 0.0, 0.0, 0.0, 0.0, 0.0, 0.0, 0.0, 0.0, 0.0, 0.0, 0.0, 0.0, 0.0, 0.0, 0.0, 0.0, 0.0, 0.0, 0.0, 0.0, 0.0, 0.0, 0.0, 0.0, 0.0, 0.0, 0.0, 0.0, 0.0, 0.0, 0.0, 0.0, 0.0, 0.0, 0.0, 0.0, 0.0, 0.0, 0.0, 0.0, 0.0, 0.0, 0.0, 0.0, 0.0, 0.0, 0.0, 0.0, 0.0, 0.0, 0.0, 0.0, 0.0, 0.0, 0.0, 0.0, 0.0, 0.0, 0.0, 0.0, 0.0, 0.0, 0.0, 0.0, 0.0, 0.0, 0.0, 0.0, 0.0, 0.0, 0.0, 0.0, 0.0, 0.0, 0.0, 0.0, 0.0, 0.0, 0.0, 0.0, 0.0, 0.0, 0.0, 0.0, 0.0, 0.0, 0.0, 0.0, 0.0, 0.0, 0.0, 0.0, 0.0, 0.0, 0.0, 0.0, 0.0, 0.0, 0.0, 0.0, 0.0, 0.0, 0.0, 0.0, 0.0, 0.0, 0.0, 0.0, 0.0, 0.0, 0.0, 0.0, 0.0, 0.0, 0.0, 0.0, 0.0, 0.0, 0.0, 0.0, 0.0, 0.0, 0.0, 0.0, 0.0, 0.0, 0.0, 0.0, 0.0, 0.0, 0.0, 0.0, 0.0, 0.0, 0.0, 0.0, 0.0, 0.0, 0.0, 0.0, 0.0, 0.0, 0.0, 0.0, 0.0, 0.0, 0.0, 0.0, 0.0, 0.0, 0.0, 0.0, 0.0, 0.0, 0.0, 0.0, 0.0, 0.0, 0.0, 0.0, 0.0, 0.0, 0.0, 0.0, 0.0, 0.0, 0.0, 0.0, 0.0, 0.0, 0.0, 0.0, 0.0, 0.0, 0.0, 0.0, 0.0, 0.0, 0.0, 0.0, 0.0, 0.0, 0.0, 0.0, 0.0, 0.0, 0.0, 0.0, 0.0, 0.0, 0.0, 0.0, 0.0, 0.0, 0.0, 0.0, 0.0, 0.0, 0.0, 0.0, 0.0, 0.0, 0.0, 0.0, 0.0, 0.0, 0.0, 0.0, 0.0, 0.0, 0.0, 0.0, 0.0, 0.0, 0.0, 0.0, 0.0, 0.0, 0.0, 0.0, 0.0, 0.0, 0.0, 0.0, 0.0, 0.0, 0.0, 0.0, 0.0, 0.0, 0.0, 0.0, 0.0, 0.0, 0.0, 0.0, 0.0, 0.0, 0.0, 0.0, 0.0, 0.0, 0.0, 0.0, 0.0, 0.0, 0.0, 0.0, 0.0, 0.0, 0.0, 0.0, 0.0, 0.0, 0.0, 0.0, 0.0, 0.0, 0.0, 0.0, 0.0, 0.0, 0.0, 0.0, 0.0, 0.0, 0.0, 0.0, 0.0, 0.0, 0.0, 0.0, 0.0, 0.0, 0.0, 0.0, 0.0, 0.0, 0.0, 0.0, 0.0, 0.0, 0.0, 0.0, 0.0, 0.0, 0.0, 0.0, 0.0, 0.0, 0.0, 0.0, 0.0, 0.0, 0.0, 0.0, 0.0, 0.0, 0.0, 0.0, 0.0, 0.0, 0.0, 0.0, 0.0, 0.0, 0.0, 0.0, 0.0, 0.0, 0.0, 0.0, 0.0, 0.0, 0.0, 0.0, 0.0, 0.0, 0.0, 0.0, 0.0, 0.0, 0.0, 0.0, 0.0, 0.0, 0.0, 0.0, 0.0, 0.0, 0.0, 0.0, 0.0, 0.0, 0.0, 0.0, 0.0, 0.0, 0.0]\n"
     ]
    }
   ],
   "source": [
    "print(d2_repr)"
   ]
  },
  {
   "cell_type": "code",
   "execution_count": null,
   "id": "7cfe5be0-9a0e-4468-9991-e2f486880156",
   "metadata": {},
   "outputs": [],
   "source": []
  },
  {
   "cell_type": "code",
   "execution_count": null,
   "id": "b42bc3a6-abf9-4e9e-9502-0f13d4835669",
   "metadata": {},
   "outputs": [],
   "source": []
  }
 ],
 "metadata": {
  "kernelspec": {
   "display_name": "Python 3 (ipykernel)",
   "language": "python",
   "name": "python3"
  },
  "language_info": {
   "codemirror_mode": {
    "name": "ipython",
    "version": 3
   },
   "file_extension": ".py",
   "mimetype": "text/x-python",
   "name": "python",
   "nbconvert_exporter": "python",
   "pygments_lexer": "ipython3",
   "version": "3.12.3"
  }
 },
 "nbformat": 4,
 "nbformat_minor": 5
}
