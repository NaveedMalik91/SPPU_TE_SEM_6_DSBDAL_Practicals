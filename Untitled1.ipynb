{
 "cells": [
  {
   "cell_type": "code",
   "execution_count": 5,
   "id": "286060ae-df4a-46ed-aeca-eaee74ae94b4",
   "metadata": {},
   "outputs": [],
   "source": [
    "import numpy as np\n",
    "import pandas as pd\n",
    "from sklearn.naive_bayes import GaussianNB\n",
    "from sklearn.linear_model import LinearRegression,LogisticRegression\n",
    "from sklearn.metrics import confusion_matrix\n",
    "from sklearn.model_selection import train_test_split\n",
    "from sklearn.preprocessing import StandardScaler"
   ]
  },
  {
   "cell_type": "code",
   "execution_count": 9,
   "id": "cec74595-4bbf-4a5d-b6e1-64e0dc8eeca9",
   "metadata": {},
   "outputs": [],
   "source": [
    "df = pd.read_csv(\"iris.csv\")"
   ]
  },
  {
   "cell_type": "code",
   "execution_count": 14,
   "id": "73928087-a209-4d33-9940-f2d05d00147d",
   "metadata": {},
   "outputs": [
    {
     "name": "stdout",
     "output_type": "stream",
     "text": [
      "Training accuracy: 97.14285714285714\n",
      "Testing accuracy: 86.66666666666667\n"
     ]
    }
   ],
   "source": [
    "from sklearn.model_selection import train_test_split\n",
    "from sklearn.naive_bayes import GaussianNB\n",
    "\n",
    "#Defining train and test variables\n",
    "X = np.asarray(df.drop(['species'], axis=1))\n",
    "Y = np.asarray(df[\"species\"])\n",
    "#Splitting training and testing data in 70:30 ratio resp.\n",
    "X_train, X_test, y_train, y_test = train_test_split(X, Y, test_size=0.3)\n",
    "\n",
    "#Creating a Gaussain model\n",
    "model = GaussianNB()\n",
    "\n",
    "#Training the model\n",
    "model.fit(X_train, y_train)\n",
    "\n",
    "#Predict the target variable\n",
    "y_pred = model.predict(X_test)\n",
    "\n",
    "# Check training and testing score\n",
    "print(\"Training accuracy:\", model.score(X_train, y_train) * 100)\n",
    "print(\"Testing accuracy:\", model.score(X_test, y_test) * 100)"
   ]
  },
  {
   "cell_type": "code",
   "execution_count": null,
   "id": "4acab7ec-3531-4557-b183-f10506534cd6",
   "metadata": {},
   "outputs": [],
   "source": []
  }
 ],
 "metadata": {
  "kernelspec": {
   "display_name": "Python 3 (ipykernel)",
   "language": "python",
   "name": "python3"
  },
  "language_info": {
   "codemirror_mode": {
    "name": "ipython",
    "version": 3
   },
   "file_extension": ".py",
   "mimetype": "text/x-python",
   "name": "python",
   "nbconvert_exporter": "python",
   "pygments_lexer": "ipython3",
   "version": "3.12.3"
  }
 },
 "nbformat": 4,
 "nbformat_minor": 5
}
